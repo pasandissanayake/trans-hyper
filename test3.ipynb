{
 "cells": [
  {
   "cell_type": "code",
   "execution_count": 1,
   "id": "a1be4838",
   "metadata": {},
   "outputs": [],
   "source": [
    "from datahandles import KFoldDatasetBuilder\n",
    "import pandas as pd"
   ]
  },
  {
   "cell_type": "code",
   "execution_count": null,
   "id": "03000502",
   "metadata": {},
   "outputs": [],
   "source": [
    "kfold_dataset = KFoldDatasetBuilder(dataset_name=\"calhousing\",\n",
    "                                    data_root='./data',\n",
    "                                    col_permutations={'train': True, 'test': False},\n",
    "                                    train_size=8,\n",
    "                                    n_folds=4,\n",
    "                                    n_shots=4,\n",
    "                                    max_n_features=103,\n",
    "                                    balanced={'train': True, 'test': False},\n",
    "                                    overlap_shots_queries=True,\n",
    "                                    eval_shots_from_train=False,\n",
    "                                    eval_shots_with_labels=False,).get_datasets()"
   ]
  },
  {
   "cell_type": "code",
   "execution_count": 12,
   "id": "98f0ba9d",
   "metadata": {},
   "outputs": [],
   "source": [
    "test_ds = kfold_dataset['test']\n",
    "train_folds = kfold_dataset['train']"
   ]
  },
  {
   "cell_type": "code",
   "execution_count": 13,
   "id": "3940dcee",
   "metadata": {},
   "outputs": [
    {
     "name": "stdout",
     "output_type": "stream",
     "text": [
      "----------- train -----------\n",
      "Example 0: The median income is 1.7083. The housing median age is 19.0. The total rooms is 3114.0. The total number of bedrooms is 787.0. The population is 3157.0. The number of households is 772.0. The latitude is 33.71. The longitude is -116.21. Is this house block valuable? Yes or no? The answer is no.\n",
      "\n",
      "Example 1: The median income is 3.4777. The housing median age is 33.0. The total rooms is 2038.0. The total number of bedrooms is 473.0. The population is 1546.0. The number of households is 469.0. The latitude is 34.13. The longitude is -117.97. Is this house block valuable? Yes or no? The answer is no.\n",
      "\n",
      "\n",
      "tensor([1, 0, 0, 1])\n",
      "----------- val -----------\n",
      "Example 0: The median income is 3.0347. The housing median age is 17.0. The total rooms is 6592.0. The total number of bedrooms is 1525.0. The population is 4459.0. The number of households is 1463.0. The latitude is 34.23. The longitude is -118.59. Is this house block valuable? Yes or no?\n",
      "\n",
      "Example 1: The median income is 5.6305. The housing median age is 26.0. The total rooms is 1445.0. The total number of bedrooms is 244.0. The population is 510.0. The number of households is 207.0. The latitude is 38.07. The longitude is -122.68. Is this house block valuable? Yes or no?\n",
      "\n",
      "\n",
      "tensor([], dtype=torch.int64)\n",
      "----------- test -----------\n",
      "Example 0: The median income is 4.1165. The housing median age is 26.0. The total rooms is 2528.0. The total number of bedrooms is 511.0. The population is 2677.0. The number of households is 512.0. The latitude is 37.32. The longitude is -121.81. Is this house block valuable? Yes or no?\n",
      "\n",
      "Example 1: The median income is 4.6989. The housing median age is 14.0. The total rooms is 2655.0. The total number of bedrooms is 441.0. The population is 1277.0. The number of households is 422.0. The latitude is 38.4. The longitude is -121.22. Is this house block valuable? Yes or no?\n",
      "\n",
      "\n"
     ]
    }
   ],
   "source": [
    "print(\"----------- train -----------\")\n",
    "print(train_folds[0]['train'][0, False]['shots'])\n",
    "print(train_folds[0]['train'][0, False]['queries_y'])\n",
    "print(\"----------- val -----------\")\n",
    "print(train_folds[0]['val'][0, False]['shots'])\n",
    "print(train_folds[0]['val'][0, False]['queries_y'])\n",
    "print(\"----------- test -----------\")\n",
    "print(test_ds[0]['shots'])"
   ]
  },
  {
   "cell_type": "code",
   "execution_count": null,
   "id": "64f6c9f6",
   "metadata": {},
   "outputs": [],
   "source": []
  }
 ],
 "metadata": {
  "kernelspec": {
   "display_name": "transhyper2",
   "language": "python",
   "name": "python3"
  },
  "language_info": {
   "codemirror_mode": {
    "name": "ipython",
    "version": 3
   },
   "file_extension": ".py",
   "mimetype": "text/x-python",
   "name": "python",
   "nbconvert_exporter": "python",
   "pygments_lexer": "ipython3",
   "version": "3.10.18"
  }
 },
 "nbformat": 4,
 "nbformat_minor": 5
}
