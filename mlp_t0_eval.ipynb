{
 "cells": [
  {
   "cell_type": "code",
   "execution_count": null,
   "id": "602cc3f4",
   "metadata": {},
   "outputs": [],
   "source": [
    "import os\n",
    "import numpy as np\n",
    "import pandas as pd\n",
    "import torch\n",
    "from transformers import AutoTokenizer\n",
    "from sklearn.metrics import accuracy_score, f1_score, balanced_accuracy_score\n",
    "import matplotlib.pyplot as plt\n",
    "import seaborn as sns\n",
    "from sklearn.metrics import confusion_matrix\n",
    "\n",
    "\n",
    "from models.t0 import T0RegressionModel\n",
    "from datahandles import TabLLMDataObject, FewshotTabLLMDataset, CombinedTabLLMTextDataset\n",
    "from tabllm.dataset_utils import load_dataset, balance_dataset, load_and_preprocess_dataset\n",
    "from utils import Config, ConfigObject\n",
    "\n",
    "os.environ[\"HF_HOME\"] = \"/export/pasan/.cache/huggingface\"\n",
    "os.environ[\"CUDA_VISIBLE_DEVICES\"] = \"0\""
   ]
  },
  {
   "cell_type": "code",
   "execution_count": 8,
   "id": "3e5b9ee7",
   "metadata": {},
   "outputs": [],
   "source": [
    "def plot_confusion_matrix(y_true, y_pred, class_names=None, normalize=False, cmap='Blues'):\n",
    "    \"\"\"\n",
    "    Displays a confusion matrix.\n",
    "\n",
    "    Parameters:\n",
    "    - y_true: list or array of true labels\n",
    "    - y_pred: list or array of predicted labels\n",
    "    - class_names: list of class names (optional)\n",
    "    - normalize: whether to normalize the matrix (default: False)\n",
    "    - cmap: color map for the heatmap\n",
    "    \"\"\"\n",
    "    cm = confusion_matrix(y_true, y_pred)\n",
    "    \n",
    "    if normalize:\n",
    "        cm = cm.astype('float') / cm.sum(axis=1)[:, np.newaxis]\n",
    "    \n",
    "    plt.figure(figsize=(6, 5))\n",
    "    sns.heatmap(cm, annot=True, fmt=\".2f\" if normalize else \"d\", cmap=cmap,\n",
    "                xticklabels=class_names if class_names else 'auto',\n",
    "                yticklabels=class_names if class_names else 'auto')\n",
    "    \n",
    "    plt.xlabel('Predicted')\n",
    "    plt.ylabel('True')\n",
    "    plt.title('Confusion Matrix' + (' (Normalized)' if normalize else ''))\n",
    "    plt.tight_layout()\n",
    "    plt.show()"
   ]
  },
  {
   "cell_type": "code",
   "execution_count": 9,
   "id": "98fe5e20",
   "metadata": {},
   "outputs": [
    {
     "name": "stdout",
     "output_type": "stream",
     "text": [
      "X.shape: (8520, 103), y.shape: (8520,)\n"
     ]
    }
   ],
   "source": [
    "ds_name = \"bank\"\n",
    "checkpoint_path = f\"save/t0pp-{ds_name}-finonly/epoch-1.pth\"\n",
    "\n",
    "checkpoint = torch.load(checkpoint_path, weights_only=False)\n",
    "\n",
    "cfg_dict = checkpoint[\"cfg\"]\n",
    "cfg_dict[\"datasets\"][\"balanced\"] = {\"train\": True, \"val\": False, \"test\": True}\n",
    "cfg_dict[\"datasets\"][\"tabllm\"][\"txt_data_path\"] = \"tabllm/data/datasets_serialized\"\n",
    "cfg_dict[\"datasets\"][\"test_ratio\"] = 0.8\n",
    "cfg_dict[\"datasets\"][\"validation_ratio\"] = 0.1\n",
    "cfg_dict[\"debug\"] = False\n",
    "cfg = Config(cfg_dict=cfg_dict)\n",
    "\n",
    "tabllm_do = TabLLMDataObject(cfg=cfg, set_hyponet_in_dim=True)\n",
    "test_ds = CombinedTabLLMTextDataset(cfg=cfg, split=\"test\", datapoints=[tabllm_do.split_datapoints[ds_name]], max_n_features=cfg.hyponet.in_dim())\n",
    "\n",
    "y = np.array([test_ds[i][\"y\"] for i in range(len(test_ds))])\n",
    "X = np.array([test_ds[i][\"x\"] for i in range(len(test_ds))])\n",
    "print(f\"X.shape: {X.shape}, y.shape: {y.shape}\")"
   ]
  },
  {
   "cell_type": "code",
   "execution_count": null,
   "id": "257b3459",
   "metadata": {},
   "outputs": [
    {
     "name": "stderr",
     "output_type": "stream",
     "text": [
      "You are using the default legacy behaviour of the <class 'transformers.models.t5.tokenization_t5.T5Tokenizer'>. This is expected, and simply means that the `legacy` (previous) behavior will be used so nothing changes for you. If you want to use the new behaviour, set `legacy=False`. This should only be set if you understand what it means, and thoroughly read the reason why this was added as explained in https://github.com/huggingface/transformers/pull/24565\n"
     ]
    }
   ],
   "source": [
    "model = T0RegressionModel(cfg=cfg)\n",
    "model.load_state_dict(checkpoint['model'])\n",
    "tokenizer = AutoTokenizer.from_pretrained(cfg.tokenizer.model())"
   ]
  },
  {
   "cell_type": "code",
   "execution_count": 13,
   "id": "6fca772e",
   "metadata": {},
   "outputs": [
    {
     "name": "stdout",
     "output_type": "stream",
     "text": [
      "Example: The age is 51. The type of job is services. The marital status is divorced. The education is secondary. The has credit in default? is no. The average yearly balance, in euros is 242. The has housing loan? is no. The has personal loan? is yes. The contact communication type is cellular. The last contact day of the month is 14. The last contact month of year is jul. The last contact duration, in seconds is 1336. The number of contacts performed during this campaign and for this client is. The number of days that passed by after the client was last contacted from a previous campaign is client was not previously contacted. The number of contacts performed before this campaign and for this client is 0. The outcome of the previous marketing campaign is unknown.\n",
      "\n",
      "Does this client subscribe to a term deposit? Yes or no? Answer:\n",
      "|||\n",
      "Yes\n",
      "\n"
     ]
    }
   ],
   "source": [
    "print(test_ds[1, True])"
   ]
  },
  {
   "cell_type": "code",
   "execution_count": 11,
   "id": "c866edf9",
   "metadata": {},
   "outputs": [
    {
     "name": "stdout",
     "output_type": "stream",
     "text": [
      "Dataset: bank\n",
      "Prediction shape: (8520,)\n",
      "Max const. predictor acc: 50.00\n",
      "Hyponet balanced acc: 50.00\n",
      "Hyponet F1 score: 0.00\n",
      "Hyponet unbalanced acc: 50.00\n"
     ]
    },
    {
     "data": {
      "image/png": "[encoded data removed]",
      "text/plain": [
       "<Figure size 600x500 with 2 Axes>"
      ]
     },
     "metadata": {},
     "output_type": "display_data"
    }
   ],
   "source": [
    "prompt = \"\".join([test_ds[i, True] for i in np.random.randint(low=0, high=len(test_ds), size=128)])\n",
    "# prompt = \"sdjhf skdjfhsd akfjal\"\n",
    "tokens = tokenizer(prompt, \n",
    "                   truncation=cfg.tokenizer.truncation(), \n",
    "                   padding=cfg.tokenizer.padding(), \n",
    "                   max_length=cfg.tokenizer.max_length(), \n",
    "                   return_tensors='pt')\n",
    "hyponet = model(tokens)\n",
    "hyponet.eval()\n",
    "preds = hyponet.forward(torch.Tensor(X).unsqueeze(dim=0))\n",
    "preds = preds.detach().numpy()\n",
    "preds = np.squeeze(preds)\n",
    "preds = np.argmax(preds, axis=1)\n",
    "\n",
    "print(f\"Dataset: {ds_name}\")\n",
    "print(f\"Prediction shape: {preds.shape}\")\n",
    "\n",
    "val_counts = pd.DataFrame(y).value_counts()\n",
    "print(f\"Max const. predictor acc: {max(val_counts)/sum(val_counts) * 100:.2f}\")\n",
    "print(f\"Hyponet balanced acc: {balanced_accuracy_score(y, preds) * 100:.2f}\")\n",
    "print(f\"Hyponet F1 score: {f1_score(y, preds) * 100:.2f}\")\n",
    "print(f\"Hyponet unbalanced acc: {accuracy_score(y, preds) * 100:.2f}\")\n",
    "\n",
    "plot_confusion_matrix(y_true=y, y_pred=preds)"
   ]
  }
 ],
 "metadata": {
  "kernelspec": {
   "display_name": "transhyper2",
   "language": "python",
   "name": "python3"
  },
  "language_info": {
   "codemirror_mode": {
    "name": "ipython",
    "version": 3
   },
   "file_extension": ".py",
   "mimetype": "text/x-python",
   "name": "python",
   "nbconvert_exporter": "python",
   "pygments_lexer": "ipython3",
   "version": "3.10.18"
  }
 },
 "nbformat": 4,
 "nbformat_minor": 5
}
