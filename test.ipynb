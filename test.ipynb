{
 "cells": [
  {
   "cell_type": "code",
   "execution_count": 1,
   "id": "e5313ec9",
   "metadata": {},
   "outputs": [],
   "source": [
    "import os\n",
    "from pathlib import Path\n",
    "import pandas as pd\n",
    "\n",
    "from sklearn.datasets import load_diabetes\n",
    "\n",
    "from datahandles import preprocess_numeric\n",
    "from utils import Config\n",
    "\n",
    "from tabllm import load_dataset, load_and_preprocess_dataset\n",
    "from datasets import load_from_disk\n",
    "\n",
    "import numpy as np"
   ]
  },
  {
   "cell_type": "code",
   "execution_count": null,
   "id": "84517692",
   "metadata": {},
   "outputs": [],
   "source": [
    "ds_name = 'heart'\n",
    "ds_raw = load_dataset(dataset_name=ds_name, data_dir=Path(f'./tabllm/data/datasets/{ds_name}'))\n",
    "print(ds_raw)\n",
    "print(ds_raw.columns)"
   ]
  },
  {
   "cell_type": "code",
   "execution_count": null,
   "id": "9191ee66",
   "metadata": {},
   "outputs": [],
   "source": [
    "all_cols = ['buying', 'maint', 'doors', 'persons', 'lug_boot', 'safety_dict']\n",
    "categorical = ['buying', 'maint', 'doors', 'persons', 'lug_boot', 'safety_dict']\n",
    "numerical = list(set(all_cols) - set(categorical) - set(['label']))\n",
    "\n",
    "print(categorical)\n",
    "print(numerical)"
   ]
  },
  {
   "cell_type": "code",
   "execution_count": null,
   "id": "1f2030f3",
   "metadata": {},
   "outputs": [
    {
     "name": "stdout",
     "output_type": "stream",
     "text": [
      "label\n",
      "False    19694\n",
      "True      6354\n",
      "Name: count, dtype: int64\n",
      "Max const. predictor acc: 75.60657248157248\n"
     ]
    }
   ],
   "source": [
    "ds_name = 'income'\n",
    "ds_raw = load_dataset(dataset_name=ds_name, data_dir=Path(f'./tabllm/data/datasets/{ds_name}'))\n",
    "# print(ds_raw)\n",
    "ds_txt = load_from_disk(f\"tabllm/data/datasets_serialized/{ds_name}\")\n",
    "ds_txt = pd.DataFrame(ds_txt) # type: ignore\n",
    "val_counts = ds_raw['label'].value_counts()\n",
    "print(val_counts)\n",
    "print('Max const. predictor acc:', max(val_counts)/sum(val_counts) * 100)"
   ]
  },
  {
   "cell_type": "code",
   "execution_count": 8,
   "id": "82a64513",
   "metadata": {},
   "outputs": [
    {
     "name": "stdout",
     "output_type": "stream",
     "text": [
      "       age         workclass     education      marital_status  \\\n",
      "16465   39  Self-emp-not-inc          11th  Married-civ-spouse   \n",
      "5625    54  Self-emp-not-inc     Bachelors  Married-civ-spouse   \n",
      "30273   32           Private       HS-grad  Married-civ-spouse   \n",
      "3136    45  Self-emp-not-inc  Some-college       Never-married   \n",
      "4521    60           Private          10th  Married-civ-spouse   \n",
      "...    ...               ...           ...                 ...   \n",
      "32511   25         Local-gov     Bachelors       Never-married   \n",
      "5192    32           Private     Bachelors  Married-civ-spouse   \n",
      "12172   27           Private     Bachelors       Never-married   \n",
      "235     59         State-gov       HS-grad  Married-civ-spouse   \n",
      "29733   33           Private     Bachelors  Married-civ-spouse   \n",
      "\n",
      "              occupation   relationship                race     sex  \\\n",
      "16465   Transport-moving        Husband               White    Male   \n",
      "5625     Exec-managerial        Husband               White    Male   \n",
      "30273              Sales        Husband               White    Male   \n",
      "3136     Farming-fishing  Not-in-family               White    Male   \n",
      "4521   Handlers-cleaners        Husband               Black    Male   \n",
      "...                  ...            ...                 ...     ...   \n",
      "32511       Adm-clerical      Own-child               Black  Female   \n",
      "5192     Exec-managerial        Husband               White    Male   \n",
      "12172  Machine-op-inspct  Not-in-family  Asian-Pac-Islander    Male   \n",
      "235        Other-service        Husband               White    Male   \n",
      "29733       Adm-clerical        Husband               White    Male   \n",
      "\n",
      "       capital_gain  capital_loss  hours_per_week native_country  label  \n",
      "16465             0             0              40  United-States  False  \n",
      "5625              0             0              40  United-States   True  \n",
      "30273             0          1902              50  United-States   True  \n",
      "3136              0             0              50  United-States  False  \n",
      "4521              0             0              40  United-States  False  \n",
      "...             ...           ...             ...            ...    ...  \n",
      "32511             0             0              40  United-States  False  \n",
      "5192          15024             0              45  United-States   True  \n",
      "12172             0             0              40            NaN  False  \n",
      "235               0             0              40  United-States  False  \n",
      "29733             0          1902              45  United-States   True  \n",
      "\n",
      "[26048 rows x 13 columns]\n"
     ]
    }
   ],
   "source": [
    "ds_name = \"income\"\n",
    "# ds = load_from_disk(f\"tabllm/data/data_ser/{ds_name}\")\n",
    "ds = load_dataset(dataset_name=ds_name, data_dir=Path(f\"./tabllm/data/datasets/{ds_name}\"))\n",
    "print(ds)"
   ]
  }
 ],
 "metadata": {
  "kernelspec": {
   "display_name": "transhyper",
   "language": "python",
   "name": "python3"
  },
  "language_info": {
   "codemirror_mode": {
    "name": "ipython",
    "version": 3
   },
   "file_extension": ".py",
   "mimetype": "text/x-python",
   "name": "python",
   "nbconvert_exporter": "python",
   "pygments_lexer": "ipython3",
   "version": "3.13.4"
  }
 },
 "nbformat": 4,
 "nbformat_minor": 5
}
