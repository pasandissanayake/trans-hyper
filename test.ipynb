{
 "cells": [
  {
   "cell_type": "code",
   "execution_count": null,
   "id": "e5313ec9",
   "metadata": {},
   "outputs": [
    {
     "name": "stdout",
     "output_type": "stream",
     "text": [
      "{'x': array([[0.10844381, 0.51910783, 0.06583172],\n",
      "       [0.93830873, 0.34260713, 0.44766689]]), 'y': array([0, 0])}\n",
      "torch.Size([5, 2, 3])\n",
      "torch.Size([5, 2])\n"
     ]
    }
   ],
   "source": [
    "from torch.utils.data import Dataset, DataLoader\n",
    "import numpy as np\n",
    "\n",
    "n_data = 10\n",
    "raw_data = np.random.rand(n_data, 3)  # Example raw data\n",
    "labels = np.random.randint(0, 2, size=(n_data,))  # Example labels\n",
    "\n",
    "class CustomDataset(Dataset):\n",
    "    def __init__(self, data, labels):\n",
    "        self.data = self._group_items(data, n_items=2, drop_last=True)\n",
    "        self.labels = self._group_items(labels, n_items=2, drop_last=True)\n",
    "\n",
    "    def __len__(self):\n",
    "        return len(self.data)\n",
    "\n",
    "    def __getitem__(self, idx):\n",
    "        return {\"x\": self.data[idx], \n",
    "                \"y\": self.labels[idx]}\n",
    "    \n",
    "    def _group_items(self, data, n_items, drop_last):\n",
    "        \"\"\"\n",
    "        Groups a list of items into sublists of size n_items.\n",
    "        \n",
    "        Args:\n",
    "            data (List[Any]): The list to group.\n",
    "            n_items (int): Size of each group.\n",
    "            drop_last (bool): If True, discard the final group if it's smaller than n_items.\n",
    "                            If False, include the final smaller group.\n",
    "        \n",
    "        Returns:\n",
    "            List[List[Any]]: A list of grouped sublists.\n",
    "        \"\"\"\n",
    "        grouped = [data[i:i + n_items] for i in range(0, len(data), n_items)]\n",
    "        \n",
    "        if drop_last and grouped and len(grouped[-1]) < n_items:\n",
    "            grouped.pop()  # Remove the last incomplete group\n",
    "\n",
    "        return grouped\n",
    "\n",
    "ds = CustomDataset(data=raw_data, labels=labels)\n",
    "\n",
    "print(ds[0])\n",
    "\n",
    "dl = DataLoader(ds, batch_size=5, shuffle=True)\n",
    "\n",
    "for batch in dl:\n",
    "    x = batch['x']\n",
    "    y = batch['y']\n",
    "    print(x.shape)\n",
    "    print(y.shape)\n",
    "    break"
   ]
  }
 ],
 "metadata": {
  "kernelspec": {
   "display_name": "transhyper",
   "language": "python",
   "name": "python3"
  },
  "language_info": {
   "codemirror_mode": {
    "name": "ipython",
    "version": 3
   },
   "file_extension": ".py",
   "mimetype": "text/x-python",
   "name": "python",
   "nbconvert_exporter": "python",
   "pygments_lexer": "ipython3",
   "version": "3.13.4"
  }
 },
 "nbformat": 4,
 "nbformat_minor": 5
}
