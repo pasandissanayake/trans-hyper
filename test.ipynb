{
 "cells": [
  {
   "cell_type": "code",
   "execution_count": 3,
   "id": "e5313ec9",
   "metadata": {},
   "outputs": [],
   "source": [
    "import os\n",
    "from pathlib import Path\n",
    "import pandas as pd\n",
    "\n",
    "from sklearn.datasets import load_diabetes\n",
    "\n",
    "from datahandles import preprocess_numeric\n",
    "from utils import Config\n",
    "\n",
    "from tabllm import load_dataset\n",
    "from datasets import load_from_disk\n",
    "\n",
    "import numpy as np"
   ]
  },
  {
   "cell_type": "code",
   "execution_count": 5,
   "id": "1f2030f3",
   "metadata": {},
   "outputs": [
    {
     "name": "stdout",
     "output_type": "stream",
     "text": [
      "label\n",
      "False    570\n",
      "True     178\n",
      "Name: count, dtype: int64\n"
     ]
    }
   ],
   "source": [
    "ds_name = 'blood'\n",
    "ds_raw = load_dataset(dataset_name=ds_name, data_dir=Path(f'./tabllm/data/datasets/{ds_name}'))\n",
    "# print(ds_raw)\n",
    "ds_txt = load_from_disk(f\"tabllm/data/datasets_serialized/{ds_name}\")\n",
    "ds_txt = pd.DataFrame(ds_txt)\n",
    "print(ds_raw['label'].value_counts())"
   ]
  },
  {
   "cell_type": "code",
   "execution_count": 16,
   "id": "5d9d211b",
   "metadata": {},
   "outputs": [
    {
     "name": "stdout",
     "output_type": "stream",
     "text": [
      "note     The Recency - months since last donation is 2....\n",
      "label                                                 True\n",
      "Name: 0, dtype: object\n",
      "The Recency - months since last donation is 2. The Frequency - total number of donation is 50. The Monetary - total blood donated in c.c. is 12500. The Time - months since first donation is 98.\n",
      "label    True\n",
      "Name: 0, dtype: object\n",
      "True\n"
     ]
    }
   ],
   "source": [
    "a = ds_txt.iloc[0]\n",
    "print(a)\n",
    "b = a['note']\n",
    "print(b)\n",
    "c = a.drop('note')\n",
    "print(c)\n",
    "print(c['label'])"
   ]
  }
 ],
 "metadata": {
  "kernelspec": {
   "display_name": "transhyper",
   "language": "python",
   "name": "python3"
  },
  "language_info": {
   "codemirror_mode": {
    "name": "ipython",
    "version": 3
   },
   "file_extension": ".py",
   "mimetype": "text/x-python",
   "name": "python",
   "nbconvert_exporter": "python",
   "pygments_lexer": "ipython3",
   "version": "3.13.4"
  }
 },
 "nbformat": 4,
 "nbformat_minor": 5
}
