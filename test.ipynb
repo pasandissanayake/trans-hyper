{
 "cells": [
  {
   "cell_type": "code",
   "execution_count": 2,
   "id": "e5313ec9",
   "metadata": {},
   "outputs": [],
   "source": [
    "import os\n",
    "from pathlib import Path\n",
    "import pandas as pd\n",
    "\n",
    "from sklearn.datasets import load_diabetes\n",
    "\n",
    "from datahandles import preprocess_numeric\n",
    "from utils import Config\n",
    "\n",
    "from tabllm import load_dataset\n",
    "from datasets import load_from_disk\n",
    "\n",
    "import numpy as np"
   ]
  },
  {
   "cell_type": "code",
   "execution_count": null,
   "id": "915d5c34",
   "metadata": {},
   "outputs": [],
   "source": [
    "dataset = load_train_validation_test(dataset_name='', data_dir=Path('./tabllm/data/datasets/creditg'))"
   ]
  },
  {
   "cell_type": "code",
   "execution_count": 19,
   "id": "605cf9db",
   "metadata": {},
   "outputs": [
    {
     "data": {
      "text/plain": [
       "array([0.])"
      ]
     },
     "execution_count": 19,
     "metadata": {},
     "output_type": "execute_result"
    }
   ],
   "source": [
    "np.zeros(1)"
   ]
  },
  {
   "cell_type": "code",
   "execution_count": 6,
   "id": "e33cedc9",
   "metadata": {},
   "outputs": [
    {
     "data": {
      "text/plain": [
       "label\n",
       "True     561\n",
       "False    239\n",
       "Name: count, dtype: int64"
      ]
     },
     "execution_count": 6,
     "metadata": {},
     "output_type": "execute_result"
    }
   ],
   "source": [
    "dataset['train']['label'].value_counts()"
   ]
  },
  {
   "cell_type": "code",
   "execution_count": 5,
   "id": "1f2030f3",
   "metadata": {},
   "outputs": [
    {
     "name": "stdout",
     "output_type": "stream",
     "text": [
      "     Pregnancies  Glucose  BloodPressure  SkinThickness  Insulin   BMI  \\\n",
      "0              6      148             72             35        0  33.6   \n",
      "1              1       85             66             29        0  26.6   \n",
      "2              8      183             64              0        0  23.3   \n",
      "3              1       89             66             23       94  28.1   \n",
      "4              0      137             40             35      168  43.1   \n",
      "..           ...      ...            ...            ...      ...   ...   \n",
      "763           10      101             76             48      180  32.9   \n",
      "764            2      122             70             27        0  36.8   \n",
      "765            5      121             72             23      112  26.2   \n",
      "766            1      126             60              0        0  30.1   \n",
      "767            1       93             70             31        0  30.4   \n",
      "\n",
      "     DiabetesPedigreeFunction  Age  label  \n",
      "0                       0.627   50      1  \n",
      "1                       0.351   31      0  \n",
      "2                       0.672   32      1  \n",
      "3                       0.167   21      0  \n",
      "4                       2.288   33      1  \n",
      "..                        ...  ...    ...  \n",
      "763                     0.171   63      0  \n",
      "764                     0.340   27      0  \n",
      "765                     0.245   30      0  \n",
      "766                     0.349   47      1  \n",
      "767                     0.315   23      0  \n",
      "\n",
      "[768 rows x 9 columns]\n",
      "label\n",
      "0    500\n",
      "1    268\n",
      "Name: count, dtype: int64\n"
     ]
    }
   ],
   "source": [
    "ds_name = 'diabetes'\n",
    "ds_raw = load_dataset(dataset_name=ds_name, data_dir=Path(f'./tabllm/data/datasets/{ds_name}'))\n",
    "print(ds_raw)\n",
    "ds_txt = load_from_disk(f\"tabllm/data/datasets_serialized/{ds_name}\")\n",
    "ds_txt = pd.DataFrame(ds_txt)\n",
    "print(ds_raw['label'].value_counts())"
   ]
  },
  {
   "cell_type": "code",
   "execution_count": null,
   "id": "b7a7885a",
   "metadata": {},
   "outputs": [
    {
     "name": "stdout",
     "output_type": "stream",
     "text": [
      "label\n",
      "0    500\n",
      "1    268\n",
      "Name: count, dtype: int64\n"
     ]
    }
   ],
   "source": []
  },
  {
   "cell_type": "code",
   "execution_count": 16,
   "id": "5d9d211b",
   "metadata": {},
   "outputs": [
    {
     "name": "stdout",
     "output_type": "stream",
     "text": [
      "note     The Recency - months since last donation is 2....\n",
      "label                                                 True\n",
      "Name: 0, dtype: object\n",
      "The Recency - months since last donation is 2. The Frequency - total number of donation is 50. The Monetary - total blood donated in c.c. is 12500. The Time - months since first donation is 98.\n",
      "label    True\n",
      "Name: 0, dtype: object\n",
      "True\n"
     ]
    }
   ],
   "source": [
    "a = ds_txt.iloc[0]\n",
    "print(a)\n",
    "b = a['note']\n",
    "print(b)\n",
    "c = a.drop('note')\n",
    "print(c)\n",
    "print(c['label'])"
   ]
  },
  {
   "cell_type": "code",
   "execution_count": 6,
   "id": "738a2767",
   "metadata": {},
   "outputs": [
    {
     "name": "stdout",
     "output_type": "stream",
     "text": [
      "748\n",
      "748\n"
     ]
    }
   ],
   "source": [
    "print(len(ds_raw))\n",
    "print(len(ds_txt))"
   ]
  },
  {
   "cell_type": "code",
   "execution_count": 8,
   "id": "7b0ed9b6",
   "metadata": {},
   "outputs": [
    {
     "name": "stdout",
     "output_type": "stream",
     "text": [
      "[1, 2, 3, 10, 20, 30, 100, 200, 300] {'a': [1, 2, 3], 'b': [10, 20, 30], 'c': [100, 200, 300]}\n"
     ]
    }
   ],
   "source": [
    "d = {}\n",
    "d['a'] = [1, 2, 3]\n",
    "d['b'] = [10, 20, 30]\n",
    "d['c'] = [100, 200, 300]\n",
    "\n",
    "m = d['a'] + d['b'] + d['c']\n",
    "print(m, d)"
   ]
  }
 ],
 "metadata": {
  "kernelspec": {
   "display_name": "transhyper",
   "language": "python",
   "name": "python3"
  },
  "language_info": {
   "codemirror_mode": {
    "name": "ipython",
    "version": 3
   },
   "file_extension": ".py",
   "mimetype": "text/x-python",
   "name": "python",
   "nbconvert_exporter": "python",
   "pygments_lexer": "ipython3",
   "version": "3.13.4"
  }
 },
 "nbformat": 4,
 "nbformat_minor": 5
}
