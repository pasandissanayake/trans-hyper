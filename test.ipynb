{
 "cells": [
  {
   "cell_type": "code",
   "execution_count": 3,
   "id": "e5313ec9",
   "metadata": {},
   "outputs": [
    {
     "name": "stdout",
     "output_type": "stream",
     "text": [
      "apple 100\n",
      "['val', 'name', 'price', 'props']\n",
      "<class 'utils.cfg.ConfigObject'>\n",
      "{'fruit': {'name': 'apple', 'price': 100, 'props': {'weight': 10, 'color': 'red'}}}\n",
      "100 red\n"
     ]
    }
   ],
   "source": [
    "from utils import Config, ConfigObject\n",
    "\n",
    "a = Config(cfg_dict={'fruit':{'name': 'apple', 'price': 100, \"props\":{\"weight\": 10, \"color\": \"red\"}}})\n",
    "print(a.fruit.name(), a.fruit.price())\n",
    "\n",
    "attr_list = list(a.fruit.__dict__.keys())\n",
    "print(attr_list)\n",
    "print(type(getattr(a.fruit, attr_list[1])))\n",
    "print(a.to_dict())\n",
    "b = Config(cfg_dict=a.to_dict())\n",
    "print(b.fruit.price(), b.fruit.props.color())"
   ]
  },
  {
   "cell_type": "code",
   "execution_count": 7,
   "id": "92d5888e",
   "metadata": {},
   "outputs": [
    {
     "name": "stdout",
     "output_type": "stream",
     "text": [
      "red\n"
     ]
    }
   ],
   "source": [
    "c = b.fruit.props\n",
    "print(c.color())"
   ]
  },
  {
   "cell_type": "code",
   "execution_count": null,
   "id": "7b0ed9b6",
   "metadata": {},
   "outputs": [],
   "source": []
  },
  {
   "cell_type": "code",
   "execution_count": 4,
   "id": "c0429a95",
   "metadata": {},
   "outputs": [
    {
     "name": "stdout",
     "output_type": "stream",
     "text": [
      "{'name': 'apple', 'price': 100, 'props': {'weight': 10, 'color': 'red'}}\n"
     ]
    }
   ],
   "source": [
    "from utils import Config, ConfigObject\n",
    "cfg = Config(\"./cfgs/base.yaml\")\n",
    "print(b.fruit.to_dict())"
   ]
  }
 ],
 "metadata": {
  "kernelspec": {
   "display_name": "transhyper",
   "language": "python",
   "name": "python3"
  },
  "language_info": {
   "codemirror_mode": {
    "name": "ipython",
    "version": 3
   },
   "file_extension": ".py",
   "mimetype": "text/x-python",
   "name": "python",
   "nbconvert_exporter": "python",
   "pygments_lexer": "ipython3",
   "version": "3.13.4"
  }
 },
 "nbformat": 4,
 "nbformat_minor": 5
}
