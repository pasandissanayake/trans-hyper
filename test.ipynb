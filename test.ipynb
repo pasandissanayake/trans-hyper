{
 "cells": [
  {
   "cell_type": "code",
   "execution_count": 1,
   "id": "e5313ec9",
   "metadata": {},
   "outputs": [
    {
     "name": "stderr",
     "output_type": "stream",
     "text": [
      "/afs/glue.umd.edu/home/glue/p/a/pasand/home/miniconda3/envs/transhyper2/lib/python3.10/site-packages/tqdm/auto.py:21: TqdmWarning: IProgress not found. Please update jupyter and ipywidgets. See https://ipywidgets.readthedocs.io/en/stable/user_install.html\n",
      "  from .autonotebook import tqdm as notebook_tqdm\n"
     ]
    }
   ],
   "source": [
    "import os\n",
    "from pathlib import Path\n",
    "import pandas as pd\n",
    "\n",
    "from sklearn.datasets import load_diabetes\n",
    "\n",
    "from datahandles import preprocess_numeric\n",
    "from utils import Config\n",
    "\n",
    "from tabllm import load_dataset, load_and_preprocess_dataset\n",
    "from datasets import load_from_disk\n",
    "\n",
    "import numpy as np"
   ]
  },
  {
   "cell_type": "code",
   "execution_count": 11,
   "id": "84517692",
   "metadata": {},
   "outputs": [
    {
     "name": "stdout",
     "output_type": "stream",
     "text": [
      "       white_piece0_strength  white_piece0_file  white_piece0_rank  \\\n",
      "0                        0.0                1.0                8.0   \n",
      "1                        0.0                2.0                8.0   \n",
      "2                        0.0                4.0                8.0   \n",
      "3                        0.0                5.0                8.0   \n",
      "4                        0.0                6.0                8.0   \n",
      "...                      ...                ...                ...   \n",
      "44814                    7.0                6.0                1.0   \n",
      "44815                    7.0                0.0                0.0   \n",
      "44816                    7.0                1.0                0.0   \n",
      "44817                    7.0                2.0                0.0   \n",
      "44818                    7.0                4.0                0.0   \n",
      "\n",
      "       black_piece0_strength  black_piece0_file  black_piece0_rank  label  \n",
      "0                        0.0                0.0                8.0   True  \n",
      "1                        0.0                0.0                8.0   True  \n",
      "2                        0.0                0.0                8.0   True  \n",
      "3                        0.0                0.0                8.0   True  \n",
      "4                        0.0                0.0                8.0   True  \n",
      "...                      ...                ...                ...    ...  \n",
      "44814                    7.0                6.0                0.0   True  \n",
      "44815                    7.0                6.0                0.0  False  \n",
      "44816                    7.0                6.0                0.0  False  \n",
      "44817                    7.0                6.0                0.0  False  \n",
      "44818                    7.0                6.0                0.0  False  \n",
      "\n",
      "[44819 rows x 7 columns]\n",
      "Index(['white_piece0_strength', 'white_piece0_file', 'white_piece0_rank',\n",
      "       'black_piece0_strength', 'black_piece0_file', 'black_piece0_rank',\n",
      "       'label'],\n",
      "      dtype='object')\n"
     ]
    }
   ],
   "source": [
    "ds_name = 'jungle'\n",
    "ds_raw = load_dataset(dataset_name=ds_name, data_dir=Path(f'./tabllm/data/datasets/{ds_name}'))\n",
    "print(ds_raw)\n",
    "print(ds_raw.columns)"
   ]
  },
  {
   "cell_type": "code",
   "execution_count": 12,
   "id": "9191ee66",
   "metadata": {},
   "outputs": [
    {
     "name": "stdout",
     "output_type": "stream",
     "text": [
      "[]\n",
      "['white_piece0_rank', 'white_piece0_file', 'black_piece0_strength', 'black_piece0_rank', 'white_piece0_strength', 'black_piece0_file']\n"
     ]
    }
   ],
   "source": [
    "all_cols = ['white_piece0_strength', 'white_piece0_file', 'white_piece0_rank',\n",
    "       'black_piece0_strength', 'black_piece0_file', 'black_piece0_rank']\n",
    "categorical = []\n",
    "numerical = list(set(all_cols) - set(categorical) - set(['label']))\n",
    "\n",
    "print(categorical)\n",
    "print(numerical)"
   ]
  },
  {
   "cell_type": "code",
   "execution_count": 2,
   "id": "1f2030f3",
   "metadata": {},
   "outputs": [
    {
     "name": "stdout",
     "output_type": "stream",
     "text": [
      "label\n",
      "False    37155\n",
      "True     11687\n",
      "Name: count, dtype: int64\n",
      "Max const. predictor acc: 76.07182343065395\n"
     ]
    }
   ],
   "source": [
    "ds_name = 'income'\n",
    "ds_raw = load_and_preprocess_dataset(dataset_name=ds_name, data_dir=Path(f'./tabllm/data/datasets/{ds_name}'))\n",
    "# print(ds_raw)\n",
    "ds_txt = load_from_disk(f\"tabllm/data/datasets_serialized/{ds_name}\")\n",
    "ds_txt = pd.DataFrame(ds_txt) # type: ignore\n",
    "val_counts = ds_raw['label'].value_counts()\n",
    "print(val_counts)\n",
    "print('Max const. predictor acc:', max(val_counts)/sum(val_counts) * 100)"
   ]
  },
  {
   "cell_type": "code",
   "execution_count": 3,
   "id": "0ea17d95",
   "metadata": {},
   "outputs": [
    {
     "data": {
      "application/vnd.microsoft.datawrangler.viewer.v0+json": {
       "columns": [
        {
         "name": "index",
         "rawType": "int64",
         "type": "integer"
        },
        {
         "name": "note",
         "rawType": "object",
         "type": "string"
        },
        {
         "name": "label",
         "rawType": "bool",
         "type": "boolean"
        }
       ],
       "ref": "bb4f0c56-e3aa-44d9-a999-d186394af75f",
       "rows": [
        [
         "0",
         "The Age is 39. The Race is White. The Sex is Male. The Marital status is married. The Relation to head of the household is Husband. The Native country is United States. The Occupation is transportation, communication, and other public utilities sector. The Work class is owner of a non-incorporated business, professional practice, or farm. The Capital gain last year is 0. The Capital loss last year is 0. The Education is finished 11th class. The Work hours per week is 40.",
         "False"
        ],
        [
         "1",
         "The Age is 54. The Race is White. The Sex is Male. The Marital status is married. The Relation to head of the household is Husband. The Native country is United States. The Occupation is execution and management. The Work class is owner of a non-incorporated business, professional practice, or farm. The Capital gain last year is 0. The Capital loss last year is 0. The Education is bachelor's degree. The Work hours per week is 40.",
         "True"
        ],
        [
         "2",
         "The Age is 32. The Race is White. The Sex is Male. The Marital status is married. The Relation to head of the household is Husband. The Native country is United States. The Occupation is sales sector. The Work class is private sector employee. The Capital gain last year is 0. The Capital loss last year is 1902. The Education is high school graduate. The Work hours per week is 50.",
         "True"
        ],
        [
         "3",
         "The Age is 45. The Race is White. The Sex is Male. The Marital status is never married. The Relation to head of the household is Not-in-family. The Native country is United States. The Occupation is agriculture, forestry, and fisheries sector. The Work class is owner of a non-incorporated business, professional practice, or farm. The Capital gain last year is 0. The Capital loss last year is 0. The Education is college for less than one year. The Work hours per week is 50.",
         "False"
        ],
        [
         "4",
         "The Age is 60. The Race is Black. The Sex is Male. The Marital status is married. The Relation to head of the household is Husband. The Native country is United States. The Occupation is cleaning and maintenance sector. The Work class is private sector employee. The Capital gain last year is 0. The Capital loss last year is 0. The Education is finished 10th class. The Work hours per week is 40.",
         "False"
        ],
        [
         "5",
         "The Age is 34. The Race is White. The Sex is Female. The Marital status is divorced. The Relation to head of the household is Not-in-family. The Native country is United States. The Occupation is office and administrative support. The Work class is state government. The Capital gain last year is 0. The Capital loss last year is 0. The Education is college for less than one year. The Work hours per week is 38.",
         "False"
        ],
        [
         "6",
         "The Age is 45. The Race is White. The Sex is Male. The Marital status is married. The Relation to head of the household is Husband. The Native country is United States. The Occupation is execution and management. The Work class is private sector employee. The Capital gain last year is 0. The Capital loss last year is 0. The Education is bachelor's degree. The Work hours per week is 40.",
         "True"
        ],
        [
         "7",
         "The Age is 61. The Race is White. The Sex is Male. The Marital status is married. The Relation to head of the household is Husband. The Native country is United States. The Occupation is. The Work class is. The Capital gain last year is 0. The Capital loss last year is 0. The Education is doctoral degree. The Work hours per week is 25.",
         "True"
        ],
        [
         "8",
         "The Age is 50. The Race is White. The Sex is Female. The Marital status is divorced. The Relation to head of the household is Not-in-family. The Native country is United States. The Occupation is execution and management. The Work class is private sector employee. The Capital gain last year is 0. The Capital loss last year is 0. The Education is master's degree. The Work hours per week is 35.",
         "False"
        ],
        [
         "9",
         "The Age is 27. The Race is White. The Sex is Female. The Marital status is divorced. The Relation to head of the household is Other-relative. The Native country is United States. The Occupation is office and administrative support. The Work class is private sector employee. The Capital gain last year is 0. The Capital loss last year is 0. The Education is college for less than one year. The Work hours per week is 40.",
         "False"
        ],
        [
         "10",
         "The Age is 35. The Race is White. The Sex is Male. The Marital status is never married. The Relation to head of the household is Unmarried. The Native country is United States. The Occupation is craft and repair sector. The Work class is private sector employee. The Capital gain last year is 0. The Capital loss last year is 0. The Education is high school graduate. The Work hours per week is 35.",
         "False"
        ],
        [
         "11",
         "The Age is 24. The Race is Asian-Pac-Islander. The Sex is Male. The Marital status is never married. The Relation to head of the household is Own-child. The Native country is. The Occupation is office and administrative support. The Work class is state government. The Capital gain last year is 0. The Capital loss last year is 0. The Education is college for less than one year. The Work hours per week is 40.",
         "False"
        ],
        [
         "12",
         "The Age is 38. The Race is White. The Sex is Female. The Marital status is never married. The Relation to head of the household is Not-in-family. The Native country is United States. The Occupation is machine operator and inspector. The Work class is private sector employee. The Capital gain last year is 0. The Capital loss last year is 0. The Education is high school graduate. The Work hours per week is 40.",
         "False"
        ],
        [
         "13",
         "The Age is 32. The Race is Black. The Sex is Female. The Marital status is never married. The Relation to head of the household is Unmarried. The Native country is United States. The Occupation is private household. The Work class is private sector employee. The Capital gain last year is 0. The Capital loss last year is 0. The Education is finished 11th class. The Work hours per week is 40.",
         "False"
        ],
        [
         "14",
         "The Age is 53. The Race is Black. The Sex is Female. The Marital status is widowed. The Relation to head of the household is Not-in-family. The Native country is United States. The Occupation is machine operator and inspector. The Work class is private sector employee. The Capital gain last year is 0. The Capital loss last year is 0. The Education is high school graduate. The Work hours per week is 40.",
         "False"
        ],
        [
         "15",
         "The Age is 39. The Race is Black. The Sex is Male. The Marital status is married. The Relation to head of the household is Husband. The Native country is United States. The Occupation is office and administrative support. The Work class is federal government. The Capital gain last year is 7688. The Capital loss last year is 0. The Education is high school graduate. The Work hours per week is 52.",
         "True"
        ],
        [
         "16",
         "The Age is 35. The Race is White. The Sex is Male. The Marital status is married. The Relation to head of the household is Husband. The Native country is United States. The Occupation is machine operator and inspector. The Work class is private sector employee. The Capital gain last year is 0. The Capital loss last year is 0. The Education is high school graduate. The Work hours per week is 40.",
         "False"
        ],
        [
         "17",
         "The Age is 50. The Race is White. The Sex is Male. The Marital status is married. The Relation to head of the household is Husband. The Native country is Mexico. The Occupation is transportation, communication, and other public utilities sector. The Work class is private sector employee. The Capital gain last year is 0. The Capital loss last year is 0. The Education is finished 6th class. The Work hours per week is 37.",
         "False"
        ],
        [
         "18",
         "The Age is 41. The Race is Asian-Pac-Islander. The Sex is Female. The Marital status is divorced. The Relation to head of the household is Unmarried. The Native country is United States. The Occupation is professional specialty. The Work class is state government. The Capital gain last year is 0. The Capital loss last year is 0. The Education is associate's degree. The Work hours per week is 36.",
         "False"
        ],
        [
         "19",
         "The Age is 58. The Race is White. The Sex is Male. The Marital status is married. The Relation to head of the household is Husband. The Native country is United States. The Occupation is craft and repair sector. The Work class is private sector employee. The Capital gain last year is 0. The Capital loss last year is 1740. The Education is associate's degree. The Work hours per week is 40.",
         "False"
        ],
        [
         "20",
         "The Age is 34. The Race is White. The Sex is Male. The Marital status is divorced. The Relation to head of the household is Not-in-family. The Native country is United States. The Occupation is craft and repair sector. The Work class is private sector employee. The Capital gain last year is 0. The Capital loss last year is 0. The Education is college for less than one year. The Work hours per week is 60.",
         "False"
        ],
        [
         "21",
         "The Age is 59. The Race is White. The Sex is Male. The Marital status is never married. The Relation to head of the household is Not-in-family. The Native country is United States. The Occupation is professional specialty. The Work class is private sector employee. The Capital gain last year is 0. The Capital loss last year is 0. The Education is professional degree. The Work hours per week is 50.",
         "False"
        ],
        [
         "22",
         "The Age is 48. The Race is White. The Sex is Female. The Marital status is widowed. The Relation to head of the household is Unmarried. The Native country is United States. The Occupation is machine operator and inspector. The Work class is private sector employee. The Capital gain last year is 0. The Capital loss last year is 0. The Education is high school graduate. The Work hours per week is 36.",
         "False"
        ],
        [
         "23",
         "The Age is 62. The Race is White. The Sex is Male. The Marital status is married. The Relation to head of the household is Husband. The Native country is United States. The Occupation is craft and repair sector. The Work class is owner of a non-incorporated business, professional practice, or farm. The Capital gain last year is 0. The Capital loss last year is 0. The Education is finished 12th class without diploma. The Work hours per week is 40.",
         "True"
        ],
        [
         "24",
         "The Age is 38. The Race is Black. The Sex is Male. The Marital status is married. The Relation to head of the household is Not-in-family. The Native country is Dominican-Republic. The Occupation is craft and repair sector. The Work class is private sector employee. The Capital gain last year is 0. The Capital loss last year is 0. The Education is bachelor's degree. The Work hours per week is 40.",
         "False"
        ],
        [
         "25",
         "The Age is 22. The Race is White. The Sex is Male. The Marital status is never married. The Relation to head of the household is Not-in-family. The Native country is United States. The Occupation is sales sector. The Work class is private sector employee. The Capital gain last year is 0. The Capital loss last year is 0. The Education is bachelor's degree. The Work hours per week is 45.",
         "False"
        ],
        [
         "26",
         "The Age is 30. The Race is White. The Sex is Male. The Marital status is married. The Relation to head of the household is Husband. The Native country is Mexico. The Occupation is machine operator and inspector. The Work class is private sector employee. The Capital gain last year is 3464. The Capital loss last year is 0. The Education is finished 6th class. The Work hours per week is 40.",
         "False"
        ],
        [
         "27",
         "The Age is 18. The Race is White. The Sex is Female. The Marital status is never married. The Relation to head of the household is Own-child. The Native country is United States. The Occupation is service sector. The Work class is private sector employee. The Capital gain last year is 0. The Capital loss last year is 0. The Education is finished 11th class. The Work hours per week is 16.",
         "False"
        ],
        [
         "28",
         "The Age is 36. The Race is White. The Sex is Male. The Marital status is married. The Relation to head of the household is Husband. The Native country is Iran. The Occupation is execution and management. The Work class is owner of a non-incorporated business, professional practice, or farm. The Capital gain last year is 0. The Capital loss last year is 0. The Education is bachelor's degree. The Work hours per week is 50.",
         "False"
        ],
        [
         "29",
         "The Age is 63. The Race is Asian-Pac-Islander. The Sex is Male. The Marital status is married. The Relation to head of the household is Husband. The Native country is Vietnam. The Occupation is office and administrative support. The Work class is private sector employee. The Capital gain last year is 2105. The Capital loss last year is 0. The Education is high school graduate. The Work hours per week is 40.",
         "False"
        ],
        [
         "30",
         "The Age is 35. The Race is White. The Sex is Male. The Marital status is never married. The Relation to head of the household is Own-child. The Native country is United States. The Occupation is transportation, communication, and other public utilities sector. The Work class is private sector employee. The Capital gain last year is 0. The Capital loss last year is 0. The Education is college for less than one year. The Work hours per week is 45.",
         "False"
        ],
        [
         "31",
         "The Age is 21. The Race is White. The Sex is Female. The Marital status is never married. The Relation to head of the household is Not-in-family. The Native country is United States. The Occupation is office and administrative support. The Work class is private sector employee. The Capital gain last year is 0. The Capital loss last year is 0. The Education is college for one or more years without a degree. The Work hours per week is 40.",
         "False"
        ],
        [
         "32",
         "The Age is 21. The Race is White. The Sex is Female. The Marital status is never married. The Relation to head of the household is Not-in-family. The Native country is United States. The Occupation is service sector. The Work class is local government. The Capital gain last year is 0. The Capital loss last year is 2001. The Education is college for less than one year. The Work hours per week is 40.",
         "False"
        ],
        [
         "33",
         "The Age is 57. The Race is White. The Sex is Female. The Marital status is separated. The Relation to head of the household is Not-in-family. The Native country is United States. The Occupation is machine operator and inspector. The Work class is private sector employee. The Capital gain last year is 0. The Capital loss last year is 0. The Education is finished 6th class. The Work hours per week is 40.",
         "False"
        ],
        [
         "34",
         "The Age is 31. The Race is Black. The Sex is Male. The Marital status is never married. The Relation to head of the household is Not-in-family. The Native country is United States. The Occupation is service sector. The Work class is private sector employee. The Capital gain last year is 0. The Capital loss last year is 0. The Education is high school graduate. The Work hours per week is 40.",
         "False"
        ],
        [
         "35",
         "The Age is 37. The Race is White. The Sex is Male. The Marital status is married. The Relation to head of the household is Husband. The Native country is United States. The Occupation is professional specialty. The Work class is private sector employee. The Capital gain last year is 0. The Capital loss last year is 0. The Education is bachelor's degree. The Work hours per week is 40.",
         "False"
        ],
        [
         "36",
         "The Age is 24. The Race is White. The Sex is Female. The Marital status is never married. The Relation to head of the household is Unmarried. The Native country is United States. The Occupation is professional specialty. The Work class is private sector employee. The Capital gain last year is 0. The Capital loss last year is 0. The Education is bachelor's degree. The Work hours per week is 40.",
         "False"
        ],
        [
         "37",
         "The Age is 48. The Race is Asian-Pac-Islander. The Sex is Female. The Marital status is married. The Relation to head of the household is Other-relative. The Native country is Philippines. The Occupation is professional specialty. The Work class is private sector employee. The Capital gain last year is 0. The Capital loss last year is 0. The Education is bachelor's degree. The Work hours per week is 36.",
         "True"
        ],
        [
         "38",
         "The Age is 52. The Race is White. The Sex is Male. The Marital status is married. The Relation to head of the household is Husband. The Native country is United States. The Occupation is sales sector. The Work class is private sector employee. The Capital gain last year is 0. The Capital loss last year is 0. The Education is high school graduate. The Work hours per week is 36.",
         "False"
        ],
        [
         "39",
         "The Age is 20. The Race is White. The Sex is Male. The Marital status is never married. The Relation to head of the household is Own-child. The Native country is United States. The Occupation is cleaning and maintenance sector. The Work class is private sector employee. The Capital gain last year is 0. The Capital loss last year is 0. The Education is college for less than one year. The Work hours per week is 40.",
         "False"
        ],
        [
         "40",
         "The Age is 39. The Race is White. The Sex is Female. The Marital status is divorced. The Relation to head of the household is Unmarried. The Native country is United States. The Occupation is professional specialty. The Work class is local government. The Capital gain last year is 0. The Capital loss last year is 0. The Education is master's degree. The Work hours per week is 40.",
         "False"
        ],
        [
         "41",
         "The Age is 26. The Race is. The Sex is Male. The Marital status is never married. The Relation to head of the household is Not-in-family. The Native country is United States. The Occupation is technology and support sector. The Work class is federal government. The Capital gain last year is 0. The Capital loss last year is 0. The Education is bachelor's degree. The Work hours per week is 60.",
         "False"
        ],
        [
         "42",
         "The Age is 38. The Race is White. The Sex is Male. The Marital status is married. The Relation to head of the household is Husband. The Native country is United States. The Occupation is agriculture, forestry, and fisheries sector. The Work class is owner of a non-incorporated business, professional practice, or farm. The Capital gain last year is 0. The Capital loss last year is 0. The Education is bachelor's degree. The Work hours per week is 99.",
         "False"
        ],
        [
         "43",
         "The Age is 49. The Race is White. The Sex is Female. The Marital status is divorced. The Relation to head of the household is Not-in-family. The Native country is United States. The Occupation is execution and management. The Work class is federal government. The Capital gain last year is 0. The Capital loss last year is 0. The Education is college for less than one year. The Work hours per week is 50.",
         "False"
        ],
        [
         "44",
         "The Age is 26. The Race is White. The Sex is Male. The Marital status is never married. The Relation to head of the household is Not-in-family. The Native country is United States. The Occupation is sales sector. The Work class is private sector employee. The Capital gain last year is 0. The Capital loss last year is 0. The Education is college for less than one year. The Work hours per week is 40.",
         "False"
        ],
        [
         "45",
         "The Age is 28. The Race is Black. The Sex is Male. The Marital status is never married. The Relation to head of the household is Not-in-family. The Native country is United States. The Occupation is professional specialty. The Work class is private sector employee. The Capital gain last year is 0. The Capital loss last year is 0. The Education is professional degree. The Work hours per week is 50.",
         "False"
        ],
        [
         "46",
         "The Age is 19. The Race is White. The Sex is Male. The Marital status is never married. The Relation to head of the household is Own-child. The Native country is United States. The Occupation is cleaning and maintenance sector. The Work class is private sector employee. The Capital gain last year is 0. The Capital loss last year is 0. The Education is high school graduate. The Work hours per week is 40.",
         "False"
        ],
        [
         "47",
         "The Age is 54. The Race is White. The Sex is Male. The Marital status is married. The Relation to head of the household is Husband. The Native country is England. The Occupation is machine operator and inspector. The Work class is private sector employee. The Capital gain last year is 0. The Capital loss last year is 0. The Education is high school graduate. The Work hours per week is 40.",
         "True"
        ],
        [
         "48",
         "The Age is 69. The Race is White. The Sex is Male. The Marital status is married. The Relation to head of the household is Husband. The Native country is United States. The Occupation is execution and management. The Work class is local government. The Capital gain last year is 0. The Capital loss last year is 0. The Education is finished 10th class. The Work hours per week is 20.",
         "False"
        ],
        [
         "49",
         "The Age is 46. The Race is White. The Sex is Male. The Marital status is never married. The Relation to head of the household is Own-child. The Native country is United States. The Occupation is craft and repair sector. The Work class is private sector employee. The Capital gain last year is 0. The Capital loss last year is 0. The Education is high school graduate. The Work hours per week is 40.",
         "False"
        ]
       ],
       "shape": {
        "columns": 2,
        "rows": 48842
       }
      },
      "text/html": [
       "<div>\n",
       "<style scoped>\n",
       "    .dataframe tbody tr th:only-of-type {\n",
       "        vertical-align: middle;\n",
       "    }\n",
       "\n",
       "    .dataframe tbody tr th {\n",
       "        vertical-align: top;\n",
       "    }\n",
       "\n",
       "    .dataframe thead th {\n",
       "        text-align: right;\n",
       "    }\n",
       "</style>\n",
       "<table border=\"1\" class=\"dataframe\">\n",
       "  <thead>\n",
       "    <tr style=\"text-align: right;\">\n",
       "      <th></th>\n",
       "      <th>note</th>\n",
       "      <th>label</th>\n",
       "    </tr>\n",
       "  </thead>\n",
       "  <tbody>\n",
       "    <tr>\n",
       "      <th>0</th>\n",
       "      <td>The Age is 39. The Race is White. The Sex is M...</td>\n",
       "      <td>False</td>\n",
       "    </tr>\n",
       "    <tr>\n",
       "      <th>1</th>\n",
       "      <td>The Age is 54. The Race is White. The Sex is M...</td>\n",
       "      <td>True</td>\n",
       "    </tr>\n",
       "    <tr>\n",
       "      <th>2</th>\n",
       "      <td>The Age is 32. The Race is White. The Sex is M...</td>\n",
       "      <td>True</td>\n",
       "    </tr>\n",
       "    <tr>\n",
       "      <th>3</th>\n",
       "      <td>The Age is 45. The Race is White. The Sex is M...</td>\n",
       "      <td>False</td>\n",
       "    </tr>\n",
       "    <tr>\n",
       "      <th>4</th>\n",
       "      <td>The Age is 60. The Race is Black. The Sex is M...</td>\n",
       "      <td>False</td>\n",
       "    </tr>\n",
       "    <tr>\n",
       "      <th>...</th>\n",
       "      <td>...</td>\n",
       "      <td>...</td>\n",
       "    </tr>\n",
       "    <tr>\n",
       "      <th>48837</th>\n",
       "      <td>The Age is 39. The Race is White. The Sex is F...</td>\n",
       "      <td>False</td>\n",
       "    </tr>\n",
       "    <tr>\n",
       "      <th>48838</th>\n",
       "      <td>The Age is 64. The Race is Black. The Sex is M...</td>\n",
       "      <td>False</td>\n",
       "    </tr>\n",
       "    <tr>\n",
       "      <th>48839</th>\n",
       "      <td>The Age is 38. The Race is White. The Sex is M...</td>\n",
       "      <td>False</td>\n",
       "    </tr>\n",
       "    <tr>\n",
       "      <th>48840</th>\n",
       "      <td>The Age is 44. The Race is Asian-Pac-Islander....</td>\n",
       "      <td>False</td>\n",
       "    </tr>\n",
       "    <tr>\n",
       "      <th>48841</th>\n",
       "      <td>The Age is 35. The Race is White. The Sex is M...</td>\n",
       "      <td>True</td>\n",
       "    </tr>\n",
       "  </tbody>\n",
       "</table>\n",
       "<p>48842 rows × 2 columns</p>\n",
       "</div>"
      ],
      "text/plain": [
       "                                                    note  label\n",
       "0      The Age is 39. The Race is White. The Sex is M...  False\n",
       "1      The Age is 54. The Race is White. The Sex is M...   True\n",
       "2      The Age is 32. The Race is White. The Sex is M...   True\n",
       "3      The Age is 45. The Race is White. The Sex is M...  False\n",
       "4      The Age is 60. The Race is Black. The Sex is M...  False\n",
       "...                                                  ...    ...\n",
       "48837  The Age is 39. The Race is White. The Sex is F...  False\n",
       "48838  The Age is 64. The Race is Black. The Sex is M...  False\n",
       "48839  The Age is 38. The Race is White. The Sex is M...  False\n",
       "48840  The Age is 44. The Race is Asian-Pac-Islander....  False\n",
       "48841  The Age is 35. The Race is White. The Sex is M...   True\n",
       "\n",
       "[48842 rows x 2 columns]"
      ]
     },
     "execution_count": 3,
     "metadata": {},
     "output_type": "execute_result"
    }
   ],
   "source": [
    "ds_txt"
   ]
  },
  {
   "cell_type": "code",
   "execution_count": 8,
   "id": "82a64513",
   "metadata": {},
   "outputs": [
    {
     "name": "stdout",
     "output_type": "stream",
     "text": [
      "       age         workclass     education      marital_status  \\\n",
      "16465   39  Self-emp-not-inc          11th  Married-civ-spouse   \n",
      "5625    54  Self-emp-not-inc     Bachelors  Married-civ-spouse   \n",
      "30273   32           Private       HS-grad  Married-civ-spouse   \n",
      "3136    45  Self-emp-not-inc  Some-college       Never-married   \n",
      "4521    60           Private          10th  Married-civ-spouse   \n",
      "...    ...               ...           ...                 ...   \n",
      "32511   25         Local-gov     Bachelors       Never-married   \n",
      "5192    32           Private     Bachelors  Married-civ-spouse   \n",
      "12172   27           Private     Bachelors       Never-married   \n",
      "235     59         State-gov       HS-grad  Married-civ-spouse   \n",
      "29733   33           Private     Bachelors  Married-civ-spouse   \n",
      "\n",
      "              occupation   relationship                race     sex  \\\n",
      "16465   Transport-moving        Husband               White    Male   \n",
      "5625     Exec-managerial        Husband               White    Male   \n",
      "30273              Sales        Husband               White    Male   \n",
      "3136     Farming-fishing  Not-in-family               White    Male   \n",
      "4521   Handlers-cleaners        Husband               Black    Male   \n",
      "...                  ...            ...                 ...     ...   \n",
      "32511       Adm-clerical      Own-child               Black  Female   \n",
      "5192     Exec-managerial        Husband               White    Male   \n",
      "12172  Machine-op-inspct  Not-in-family  Asian-Pac-Islander    Male   \n",
      "235        Other-service        Husband               White    Male   \n",
      "29733       Adm-clerical        Husband               White    Male   \n",
      "\n",
      "       capital_gain  capital_loss  hours_per_week native_country  label  \n",
      "16465             0             0              40  United-States  False  \n",
      "5625              0             0              40  United-States   True  \n",
      "30273             0          1902              50  United-States   True  \n",
      "3136              0             0              50  United-States  False  \n",
      "4521              0             0              40  United-States  False  \n",
      "...             ...           ...             ...            ...    ...  \n",
      "32511             0             0              40  United-States  False  \n",
      "5192          15024             0              45  United-States   True  \n",
      "12172             0             0              40            NaN  False  \n",
      "235               0             0              40  United-States  False  \n",
      "29733             0          1902              45  United-States   True  \n",
      "\n",
      "[26048 rows x 13 columns]\n"
     ]
    }
   ],
   "source": [
    "ds_name = \"income\"\n",
    "# ds = load_from_disk(f\"tabllm/data/data_ser/{ds_name}\")\n",
    "ds = load_dataset(dataset_name=ds_name, data_dir=Path(f\"./tabllm/data/datasets/{ds_name}\"))\n",
    "print(ds)"
   ]
  },
  {
   "cell_type": "code",
   "execution_count": 3,
   "id": "fd5ae0de",
   "metadata": {},
   "outputs": [],
   "source": [
    "from transformers import BertModel, BertTokenizer\n",
    "\n",
    "model_name = \"bert-base-uncased\"\n",
    "model = BertModel.from_pretrained(model_name, num_labels=2)\n",
    "tokenizer = BertTokenizer.from_pretrained(model_name)"
   ]
  },
  {
   "cell_type": "code",
   "execution_count": 12,
   "id": "df75bb71",
   "metadata": {},
   "outputs": [
    {
     "name": "stdout",
     "output_type": "stream",
     "text": [
      "embeddings.word_embeddings.weight\n",
      "embeddings.position_embeddings.weight\n",
      "embeddings.token_type_embeddings.weight\n",
      "embeddings.LayerNorm.weight\n",
      "embeddings.LayerNorm.bias\n",
      "encoder.layer.0.attention.self.query.weight\n",
      "encoder.layer.0.attention.self.query.bias\n",
      "encoder.layer.0.attention.self.key.weight\n",
      "encoder.layer.0.attention.self.key.bias\n",
      "encoder.layer.0.attention.self.value.weight\n",
      "encoder.layer.0.attention.self.value.bias\n",
      "encoder.layer.0.attention.output.dense.weight\n",
      "encoder.layer.0.attention.output.dense.bias\n",
      "encoder.layer.0.attention.output.LayerNorm.weight\n",
      "encoder.layer.0.attention.output.LayerNorm.bias\n",
      "encoder.layer.0.intermediate.dense.weight\n",
      "encoder.layer.0.intermediate.dense.bias\n",
      "encoder.layer.0.output.dense.weight\n",
      "encoder.layer.0.output.dense.bias\n",
      "encoder.layer.0.output.LayerNorm.weight\n",
      "encoder.layer.0.output.LayerNorm.bias\n",
      "encoder.layer.1.attention.self.query.weight\n",
      "encoder.layer.1.attention.self.query.bias\n",
      "encoder.layer.1.attention.self.key.weight\n",
      "encoder.layer.1.attention.self.key.bias\n",
      "encoder.layer.1.attention.self.value.weight\n",
      "encoder.layer.1.attention.self.value.bias\n",
      "encoder.layer.1.attention.output.dense.weight\n",
      "encoder.layer.1.attention.output.dense.bias\n",
      "encoder.layer.1.attention.output.LayerNorm.weight\n",
      "encoder.layer.1.attention.output.LayerNorm.bias\n",
      "encoder.layer.1.intermediate.dense.weight\n",
      "encoder.layer.1.intermediate.dense.bias\n",
      "encoder.layer.1.output.dense.weight\n",
      "encoder.layer.1.output.dense.bias\n",
      "encoder.layer.1.output.LayerNorm.weight\n",
      "encoder.layer.1.output.LayerNorm.bias\n",
      "encoder.layer.2.attention.self.query.weight\n",
      "encoder.layer.2.attention.self.query.bias\n",
      "encoder.layer.2.attention.self.key.weight\n",
      "encoder.layer.2.attention.self.key.bias\n",
      "encoder.layer.2.attention.self.value.weight\n",
      "encoder.layer.2.attention.self.value.bias\n",
      "encoder.layer.2.attention.output.dense.weight\n",
      "encoder.layer.2.attention.output.dense.bias\n",
      "encoder.layer.2.attention.output.LayerNorm.weight\n",
      "encoder.layer.2.attention.output.LayerNorm.bias\n",
      "encoder.layer.2.intermediate.dense.weight\n",
      "encoder.layer.2.intermediate.dense.bias\n",
      "encoder.layer.2.output.dense.weight\n",
      "encoder.layer.2.output.dense.bias\n",
      "encoder.layer.2.output.LayerNorm.weight\n",
      "encoder.layer.2.output.LayerNorm.bias\n",
      "encoder.layer.3.attention.self.query.weight\n",
      "encoder.layer.3.attention.self.query.bias\n",
      "encoder.layer.3.attention.self.key.weight\n",
      "encoder.layer.3.attention.self.key.bias\n",
      "encoder.layer.3.attention.self.value.weight\n",
      "encoder.layer.3.attention.self.value.bias\n",
      "encoder.layer.3.attention.output.dense.weight\n",
      "encoder.layer.3.attention.output.dense.bias\n",
      "encoder.layer.3.attention.output.LayerNorm.weight\n",
      "encoder.layer.3.attention.output.LayerNorm.bias\n",
      "encoder.layer.3.intermediate.dense.weight\n",
      "encoder.layer.3.intermediate.dense.bias\n",
      "encoder.layer.3.output.dense.weight\n",
      "encoder.layer.3.output.dense.bias\n",
      "encoder.layer.3.output.LayerNorm.weight\n",
      "encoder.layer.3.output.LayerNorm.bias\n",
      "encoder.layer.4.attention.self.query.weight\n",
      "encoder.layer.4.attention.self.query.bias\n",
      "encoder.layer.4.attention.self.key.weight\n",
      "encoder.layer.4.attention.self.key.bias\n",
      "encoder.layer.4.attention.self.value.weight\n",
      "encoder.layer.4.attention.self.value.bias\n",
      "encoder.layer.4.attention.output.dense.weight\n",
      "encoder.layer.4.attention.output.dense.bias\n",
      "encoder.layer.4.attention.output.LayerNorm.weight\n",
      "encoder.layer.4.attention.output.LayerNorm.bias\n",
      "encoder.layer.4.intermediate.dense.weight\n",
      "encoder.layer.4.intermediate.dense.bias\n",
      "encoder.layer.4.output.dense.weight\n",
      "encoder.layer.4.output.dense.bias\n",
      "encoder.layer.4.output.LayerNorm.weight\n",
      "encoder.layer.4.output.LayerNorm.bias\n",
      "encoder.layer.5.attention.self.query.weight\n",
      "encoder.layer.5.attention.self.query.bias\n",
      "encoder.layer.5.attention.self.key.weight\n",
      "encoder.layer.5.attention.self.key.bias\n",
      "encoder.layer.5.attention.self.value.weight\n",
      "encoder.layer.5.attention.self.value.bias\n",
      "encoder.layer.5.attention.output.dense.weight\n",
      "encoder.layer.5.attention.output.dense.bias\n",
      "encoder.layer.5.attention.output.LayerNorm.weight\n",
      "encoder.layer.5.attention.output.LayerNorm.bias\n",
      "encoder.layer.5.intermediate.dense.weight\n",
      "encoder.layer.5.intermediate.dense.bias\n",
      "encoder.layer.5.output.dense.weight\n",
      "encoder.layer.5.output.dense.bias\n",
      "encoder.layer.5.output.LayerNorm.weight\n",
      "encoder.layer.5.output.LayerNorm.bias\n",
      "encoder.layer.6.attention.self.query.weight\n",
      "encoder.layer.6.attention.self.query.bias\n",
      "encoder.layer.6.attention.self.key.weight\n",
      "encoder.layer.6.attention.self.key.bias\n",
      "encoder.layer.6.attention.self.value.weight\n",
      "encoder.layer.6.attention.self.value.bias\n",
      "encoder.layer.6.attention.output.dense.weight\n",
      "encoder.layer.6.attention.output.dense.bias\n",
      "encoder.layer.6.attention.output.LayerNorm.weight\n",
      "encoder.layer.6.attention.output.LayerNorm.bias\n",
      "encoder.layer.6.intermediate.dense.weight\n",
      "encoder.layer.6.intermediate.dense.bias\n",
      "encoder.layer.6.output.dense.weight\n",
      "encoder.layer.6.output.dense.bias\n",
      "encoder.layer.6.output.LayerNorm.weight\n",
      "encoder.layer.6.output.LayerNorm.bias\n",
      "encoder.layer.7.attention.self.query.weight\n",
      "encoder.layer.7.attention.self.query.bias\n",
      "encoder.layer.7.attention.self.key.weight\n",
      "encoder.layer.7.attention.self.key.bias\n",
      "encoder.layer.7.attention.self.value.weight\n",
      "encoder.layer.7.attention.self.value.bias\n",
      "encoder.layer.7.attention.output.dense.weight\n",
      "encoder.layer.7.attention.output.dense.bias\n",
      "encoder.layer.7.attention.output.LayerNorm.weight\n",
      "encoder.layer.7.attention.output.LayerNorm.bias\n",
      "encoder.layer.7.intermediate.dense.weight\n",
      "encoder.layer.7.intermediate.dense.bias\n",
      "encoder.layer.7.output.dense.weight\n",
      "encoder.layer.7.output.dense.bias\n",
      "encoder.layer.7.output.LayerNorm.weight\n",
      "encoder.layer.7.output.LayerNorm.bias\n",
      "encoder.layer.8.attention.self.query.weight\n",
      "encoder.layer.8.attention.self.query.bias\n",
      "encoder.layer.8.attention.self.key.weight\n",
      "encoder.layer.8.attention.self.key.bias\n",
      "encoder.layer.8.attention.self.value.weight\n",
      "encoder.layer.8.attention.self.value.bias\n",
      "encoder.layer.8.attention.output.dense.weight\n",
      "encoder.layer.8.attention.output.dense.bias\n",
      "encoder.layer.8.attention.output.LayerNorm.weight\n",
      "encoder.layer.8.attention.output.LayerNorm.bias\n",
      "encoder.layer.8.intermediate.dense.weight\n",
      "encoder.layer.8.intermediate.dense.bias\n",
      "encoder.layer.8.output.dense.weight\n",
      "encoder.layer.8.output.dense.bias\n",
      "encoder.layer.8.output.LayerNorm.weight\n",
      "encoder.layer.8.output.LayerNorm.bias\n",
      "encoder.layer.9.attention.self.query.weight\n",
      "encoder.layer.9.attention.self.query.bias\n",
      "encoder.layer.9.attention.self.key.weight\n",
      "encoder.layer.9.attention.self.key.bias\n",
      "encoder.layer.9.attention.self.value.weight\n",
      "encoder.layer.9.attention.self.value.bias\n",
      "encoder.layer.9.attention.output.dense.weight\n",
      "encoder.layer.9.attention.output.dense.bias\n",
      "encoder.layer.9.attention.output.LayerNorm.weight\n",
      "encoder.layer.9.attention.output.LayerNorm.bias\n",
      "encoder.layer.9.intermediate.dense.weight\n",
      "encoder.layer.9.intermediate.dense.bias\n",
      "encoder.layer.9.output.dense.weight\n",
      "encoder.layer.9.output.dense.bias\n",
      "encoder.layer.9.output.LayerNorm.weight\n",
      "encoder.layer.9.output.LayerNorm.bias\n",
      "encoder.layer.10.attention.self.query.weight\n",
      "encoder.layer.10.attention.self.query.bias\n",
      "encoder.layer.10.attention.self.key.weight\n",
      "encoder.layer.10.attention.self.key.bias\n",
      "encoder.layer.10.attention.self.value.weight\n",
      "encoder.layer.10.attention.self.value.bias\n",
      "encoder.layer.10.attention.output.dense.weight\n",
      "encoder.layer.10.attention.output.dense.bias\n",
      "encoder.layer.10.attention.output.LayerNorm.weight\n",
      "encoder.layer.10.attention.output.LayerNorm.bias\n",
      "encoder.layer.10.intermediate.dense.weight\n",
      "encoder.layer.10.intermediate.dense.bias\n",
      "encoder.layer.10.output.dense.weight\n",
      "encoder.layer.10.output.dense.bias\n",
      "encoder.layer.10.output.LayerNorm.weight\n",
      "encoder.layer.10.output.LayerNorm.bias\n",
      "encoder.layer.11.attention.self.query.weight\n",
      "encoder.layer.11.attention.self.query.bias\n",
      "encoder.layer.11.attention.self.key.weight\n",
      "encoder.layer.11.attention.self.key.bias\n",
      "encoder.layer.11.attention.self.value.weight\n",
      "encoder.layer.11.attention.self.value.bias\n",
      "encoder.layer.11.attention.output.dense.weight\n",
      "encoder.layer.11.attention.output.dense.bias\n",
      "encoder.layer.11.attention.output.LayerNorm.weight\n",
      "encoder.layer.11.attention.output.LayerNorm.bias\n",
      "encoder.layer.11.intermediate.dense.weight\n",
      "encoder.layer.11.intermediate.dense.bias\n",
      "encoder.layer.11.output.dense.weight\n",
      "encoder.layer.11.output.dense.bias\n",
      "encoder.layer.11.output.LayerNorm.weight\n",
      "encoder.layer.11.output.LayerNorm.bias\n",
      "pooler.dense.weight\n",
      "pooler.dense.bias\n"
     ]
    }
   ],
   "source": [
    "for name, param in model.named_parameters():\n",
    "    print(name)\n",
    "    # if \"classifier\" not in name: # Assuming the last layer is named \"classifier\"\n",
    "    #     param.requires_grad = False"
   ]
  },
  {
   "cell_type": "code",
   "execution_count": 5,
   "id": "e3603cda",
   "metadata": {},
   "outputs": [
    {
     "name": "stdout",
     "output_type": "stream",
     "text": [
      "TabLLMDataObject initialized with 4 training set(s),1 validation set(s), and 1 test set(s).\n",
      "Maximum number of features across all datasets: 103\n",
      "Hyponet in_dim set to max number of features (=103)\n",
      "[(748, 748), (45211, 45211), (20640, 20640), (48842, 48842)]\n",
      "Example: The median income is 3.0375. The median age is 26. The total rooms is 1912. The total bedrooms is 339. The population is 1002. The households is 311. The latitude is 36.37. The longitude is -119.55.\n",
      "\n",
      "Is this house block valuable? Yes or no? Answer:\n",
      "|||\n",
      "No\n",
      " Example: The median income is 3.4419. The median age is 15. The total rooms is 7626. The total bedrooms is 1570. The population is 3823. The households is 1415. The latitude is 33.87. The longitude is -117.60.\n",
      "\n",
      "Is this house block valuable? Yes or no? Answer:\n",
      "|||\n",
      "No\n",
      " Example: The median income is 4.4762. The median age is 30. The total rooms is 5398. The total bedrooms is 926. The population is 2672. The households is 864. The latitude is 33.94. The longitude is -117.55.\n",
      "\n",
      "Is this house block valuable? Yes or no? Answer:\n",
      "|||\n",
      "No\n",
      "\n",
      "220\n"
     ]
    }
   ],
   "source": [
    "from utils import Config, ConfigObject\n",
    "from datahandles import TabLLMDataObject, CombinedTabLLMTextDataset\n",
    "import yaml\n",
    "from jinja2 import Environment, FileSystemLoader, select_autoescape\n",
    "import os\n",
    "\n",
    "cfg = Config(\"./cfgs/bert.yaml\")\n",
    "tabllm_do = TabLLMDataObject(cfg, set_hyponet_in_dim=True)\n",
    "test_ds = tabllm_do.data['test']\n",
    "print(test_ds[0]['shots'])\n",
    "\n",
    "print(len(tokenizer.tokenize(test_ds[0]['shots'])))"
   ]
  },
  {
   "cell_type": "code",
   "execution_count": 5,
   "id": "0eb20d90",
   "metadata": {},
   "outputs": [
    {
     "name": "stdout",
     "output_type": "stream",
     "text": [
      "False\n"
     ]
    }
   ],
   "source": [
    "if \"decoder\" not in \"66.decoder.manam\":\n",
    "    print(True)\n",
    "else:\n",
    "    print(False)"
   ]
  },
  {
   "cell_type": "code",
   "execution_count": 3,
   "id": "c04a8d70",
   "metadata": {},
   "outputs": [
    {
     "name": "stdout",
     "output_type": "stream",
     "text": [
      "2507281250\n"
     ]
    }
   ],
   "source": [
    "from datetime import datetime\n",
    "print(datetime.now().strftime(\"%y%m%d%H%M\"))"
   ]
  },
  {
   "cell_type": "code",
   "execution_count": 6,
   "id": "aebd57dd",
   "metadata": {},
   "outputs": [
    {
     "data": {
      "application/vnd.microsoft.datawrangler.viewer.v0+json": {
       "columns": [
        {
         "name": "index",
         "rawType": "int64",
         "type": "integer"
        },
        {
         "name": "note",
         "rawType": "object",
         "type": "string"
        },
        {
         "name": "label",
         "rawType": "bool",
         "type": "boolean"
        }
       ],
       "ref": "a420cfc2-db66-48b4-891d-d8896c72a5fa",
       "rows": [
        [
         "0",
         "The Status of existing checking account is < 0 DM. The Duration in month is 6. The Credit history is critical account/ other credits existing (not at this bank). The Purpose is radio/television. The Credit amount is 1169. The Savings account/bonds is unknown/ no savings account. The Present employment since is >=7. The Installment rate in percentage of disposable income is 4. The Personal status and sex is male : single. The Other debtors / guarantors is none. The Present residence since is 4. The Property is real estate. The Age in years is 67. The Other installment plans is none. The Housing is own. The Number of existing credits at this bank is 2. The Job is skilled employee / official. The Number of people being liable to provide maintenance for is 1.0. The Telephone is yes, registered under the customers name. The foreign worker is yes.",
         "True"
        ],
        [
         "1",
         "The Status of existing checking account is 0 <= ... < 200 DM. The Duration in month is 48. The Credit history is existing credits paid back duly till now. The Purpose is radio/television. The Credit amount is 5951. The Savings account/bonds is ... < 100 DM. The Present employment since is 1<=X<4. The Installment rate in percentage of disposable income is 2. The Personal status and sex is female : divorced/separated/married. The Other debtors / guarantors is none. The Present residence since is 2. The Property is real estate. The Age in years is 22. The Other installment plans is none. The Housing is own. The Number of existing credits at this bank is 1. The Job is skilled employee / official. The Number of people being liable to provide maintenance for is 1.0. The Telephone is none. The foreign worker is yes.",
         "False"
        ],
        [
         "2",
         "The Status of existing checking account is no checking account. The Duration in month is 12. The Credit history is critical account/ other credits existing (not at this bank). The Purpose is education. The Credit amount is 2096. The Savings account/bonds is ... < 100 DM. The Present employment since is 4<=X<7. The Installment rate in percentage of disposable income is 2. The Personal status and sex is male : single. The Other debtors / guarantors is none. The Present residence since is 3. The Property is real estate. The Age in years is 49. The Other installment plans is none. The Housing is own. The Number of existing credits at this bank is 1. The Job is unskilled - resident. The Number of people being liable to provide maintenance for is 2.0. The Telephone is none. The foreign worker is yes.",
         "True"
        ],
        [
         "3",
         "The Status of existing checking account is < 0 DM. The Duration in month is 42. The Credit history is existing credits paid back duly till now. The Purpose is furniture/equipment. The Credit amount is 7882. The Savings account/bonds is ... < 100 DM. The Present employment since is 4<=X<7. The Installment rate in percentage of disposable income is 2. The Personal status and sex is male : single. The Other debtors / guarantors is guarantor. The Present residence since is 4. The Property is building society savings agreement/ life insurance. The Age in years is 45. The Other installment plans is none. The Housing is for free. The Number of existing credits at this bank is 1. The Job is skilled employee / official. The Number of people being liable to provide maintenance for is 2.0. The Telephone is none. The foreign worker is yes.",
         "True"
        ],
        [
         "4",
         "The Status of existing checking account is < 0 DM. The Duration in month is 24. The Credit history is delay in paying off in the past. The Purpose is car (new). The Credit amount is 4870. The Savings account/bonds is ... < 100 DM. The Present employment since is 1<=X<4. The Installment rate in percentage of disposable income is 3. The Personal status and sex is male : single. The Other debtors / guarantors is none. The Present residence since is 4. The Property is unknown / no property. The Age in years is 53. The Other installment plans is none. The Housing is for free. The Number of existing credits at this bank is 2. The Job is skilled employee / official. The Number of people being liable to provide maintenance for is 2.0. The Telephone is none. The foreign worker is yes.",
         "False"
        ]
       ],
       "shape": {
        "columns": 2,
        "rows": 5
       }
      },
      "text/html": [
       "<div>\n",
       "<style scoped>\n",
       "    .dataframe tbody tr th:only-of-type {\n",
       "        vertical-align: middle;\n",
       "    }\n",
       "\n",
       "    .dataframe tbody tr th {\n",
       "        vertical-align: top;\n",
       "    }\n",
       "\n",
       "    .dataframe thead th {\n",
       "        text-align: right;\n",
       "    }\n",
       "</style>\n",
       "<table border=\"1\" class=\"dataframe\">\n",
       "  <thead>\n",
       "    <tr style=\"text-align: right;\">\n",
       "      <th></th>\n",
       "      <th>note</th>\n",
       "      <th>label</th>\n",
       "    </tr>\n",
       "  </thead>\n",
       "  <tbody>\n",
       "    <tr>\n",
       "      <th>0</th>\n",
       "      <td>The Status of existing checking account is &lt; 0...</td>\n",
       "      <td>True</td>\n",
       "    </tr>\n",
       "    <tr>\n",
       "      <th>1</th>\n",
       "      <td>The Status of existing checking account is 0 &lt;...</td>\n",
       "      <td>False</td>\n",
       "    </tr>\n",
       "    <tr>\n",
       "      <th>2</th>\n",
       "      <td>The Status of existing checking account is no ...</td>\n",
       "      <td>True</td>\n",
       "    </tr>\n",
       "    <tr>\n",
       "      <th>3</th>\n",
       "      <td>The Status of existing checking account is &lt; 0...</td>\n",
       "      <td>True</td>\n",
       "    </tr>\n",
       "    <tr>\n",
       "      <th>4</th>\n",
       "      <td>The Status of existing checking account is &lt; 0...</td>\n",
       "      <td>False</td>\n",
       "    </tr>\n",
       "  </tbody>\n",
       "</table>\n",
       "</div>"
      ],
      "text/plain": [
       "                                                note  label\n",
       "0  The Status of existing checking account is < 0...   True\n",
       "1  The Status of existing checking account is 0 <...  False\n",
       "2  The Status of existing checking account is no ...   True\n",
       "3  The Status of existing checking account is < 0...   True\n",
       "4  The Status of existing checking account is < 0...  False"
      ]
     },
     "execution_count": 6,
     "metadata": {},
     "output_type": "execute_result"
    }
   ],
   "source": [
    "import pyarrow as pa\n",
    "\n",
    "# Open the stream and read all record batches into a Table\n",
    "with open('./tabllm/data/datasets_serialized/creditg/dataset.arrow', 'rb') as f:\n",
    "    reader = pa.ipc.open_stream(f)\n",
    "    table = reader.read_all()\n",
    "\n",
    "# Convert to a pandas DataFrame (optional)\n",
    "df = table.to_pandas()\n",
    "df.head()"
   ]
  },
  {
   "cell_type": "code",
   "execution_count": 2,
   "id": "084d1ca5",
   "metadata": {},
   "outputs": [],
   "source": [
    "a = [2, 1]\n",
    "a.extend([i for i in range(5) if i not in a])"
   ]
  },
  {
   "cell_type": "code",
   "execution_count": 3,
   "id": "41c3de6a",
   "metadata": {},
   "outputs": [
    {
     "data": {
      "text/plain": [
       "[2, 1, 0, 3, 4]"
      ]
     },
     "execution_count": 3,
     "metadata": {},
     "output_type": "execute_result"
    }
   ],
   "source": [
    "a"
   ]
  }
 ],
 "metadata": {
  "kernelspec": {
   "display_name": "transhyper2",
   "language": "python",
   "name": "python3"
  },
  "language_info": {
   "codemirror_mode": {
    "name": "ipython",
    "version": 3
   },
   "file_extension": ".py",
   "mimetype": "text/x-python",
   "name": "python",
   "nbconvert_exporter": "python",
   "pygments_lexer": "ipython3",
   "version": "3.10.18"
  }
 },
 "nbformat": 4,
 "nbformat_minor": 5
}
