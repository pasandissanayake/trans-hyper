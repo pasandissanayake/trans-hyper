{
 "cells": [
  {
   "cell_type": "code",
   "execution_count": 17,
   "id": "e5313ec9",
   "metadata": {},
   "outputs": [],
   "source": [
    "import os\n",
    "from pathlib import Path\n",
    "import pandas as pd\n",
    "\n",
    "from sklearn.datasets import load_diabetes\n",
    "\n",
    "from datahandles import preprocess_numeric\n",
    "from utils import Config\n",
    "\n",
    "from tabllm import load_dataset\n",
    "from datasets import load_from_disk\n",
    "\n",
    "import numpy as np"
   ]
  },
  {
   "cell_type": "code",
   "execution_count": 5,
   "id": "915d5c34",
   "metadata": {},
   "outputs": [],
   "source": [
    "dataset = load_train_validation_test(dataset_name='creditg', data_dir=Path('./tabllm/data/datasets/creditg'))"
   ]
  },
  {
   "cell_type": "code",
   "execution_count": 19,
   "id": "605cf9db",
   "metadata": {},
   "outputs": [
    {
     "data": {
      "text/plain": [
       "array([0.])"
      ]
     },
     "execution_count": 19,
     "metadata": {},
     "output_type": "execute_result"
    }
   ],
   "source": [
    "np.zeros(1)"
   ]
  },
  {
   "cell_type": "code",
   "execution_count": 6,
   "id": "e33cedc9",
   "metadata": {},
   "outputs": [
    {
     "data": {
      "text/plain": [
       "label\n",
       "True     561\n",
       "False    239\n",
       "Name: count, dtype: int64"
      ]
     },
     "execution_count": 6,
     "metadata": {},
     "output_type": "execute_result"
    }
   ],
   "source": [
    "dataset['train']['label'].value_counts()"
   ]
  },
  {
   "cell_type": "code",
   "execution_count": 5,
   "id": "1f2030f3",
   "metadata": {},
   "outputs": [
    {
     "name": "stdout",
     "output_type": "stream",
     "text": [
      "     recency  frequency  monetary  time  label\n",
      "0        2.0       50.0   12500.0  98.0   True\n",
      "1        0.0       13.0    3250.0  28.0   True\n",
      "2        1.0       16.0    4000.0  35.0   True\n",
      "3        2.0       20.0    5000.0  45.0   True\n",
      "4        1.0       24.0    6000.0  77.0  False\n",
      "..       ...        ...       ...   ...    ...\n",
      "743     23.0        2.0     500.0  38.0  False\n",
      "744     21.0        2.0     500.0  52.0  False\n",
      "745     23.0        3.0     750.0  62.0  False\n",
      "746     39.0        1.0     250.0  39.0  False\n",
      "747     72.0        1.0     250.0  72.0  False\n",
      "\n",
      "[748 rows x 5 columns]\n"
     ]
    }
   ],
   "source": [
    "ds_name = 'blood'\n",
    "ds_raw = load_dataset(dataset_name=ds_name, data_dir=Path(f'./tabllm/data/datasets/{ds_name}'))\n",
    "print(ds_raw)\n",
    "ds_txt = load_from_disk(f\"tabllm/data/datasets_serialized/{ds_name}\")\n",
    "ds_txt = pd.DataFrame(ds_txt)"
   ]
  },
  {
   "cell_type": "code",
   "execution_count": 16,
   "id": "5d9d211b",
   "metadata": {},
   "outputs": [
    {
     "name": "stdout",
     "output_type": "stream",
     "text": [
      "note     The Recency - months since last donation is 2....\n",
      "label                                                 True\n",
      "Name: 0, dtype: object\n",
      "The Recency - months since last donation is 2. The Frequency - total number of donation is 50. The Monetary - total blood donated in c.c. is 12500. The Time - months since first donation is 98.\n",
      "label    True\n",
      "Name: 0, dtype: object\n",
      "True\n"
     ]
    }
   ],
   "source": [
    "a = ds_txt.iloc[0]\n",
    "print(a)\n",
    "b = a['note']\n",
    "print(b)\n",
    "c = a.drop('note')\n",
    "print(c)\n",
    "print(c['label'])"
   ]
  },
  {
   "cell_type": "code",
   "execution_count": 6,
   "id": "738a2767",
   "metadata": {},
   "outputs": [
    {
     "name": "stdout",
     "output_type": "stream",
     "text": [
      "748\n",
      "748\n"
     ]
    }
   ],
   "source": [
    "print(len(ds_raw))\n",
    "print(len(ds_txt))"
   ]
  },
  {
   "cell_type": "code",
   "execution_count": 8,
   "id": "7b0ed9b6",
   "metadata": {},
   "outputs": [
    {
     "name": "stdout",
     "output_type": "stream",
     "text": [
      "[1, 2, 3, 10, 20, 30, 100, 200, 300] {'a': [1, 2, 3], 'b': [10, 20, 30], 'c': [100, 200, 300]}\n"
     ]
    }
   ],
   "source": [
    "d = {}\n",
    "d['a'] = [1, 2, 3]\n",
    "d['b'] = [10, 20, 30]\n",
    "d['c'] = [100, 200, 300]\n",
    "\n",
    "m = d['a'] + d['b'] + d['c']\n",
    "print(m, d)"
   ]
  }
 ],
 "metadata": {
  "kernelspec": {
   "display_name": "Python 3",
   "language": "python",
   "name": "python3"
  },
  "language_info": {
   "codemirror_mode": {
    "name": "ipython",
    "version": 3
   },
   "file_extension": ".py",
   "mimetype": "text/x-python",
   "name": "python",
   "nbconvert_exporter": "python",
   "pygments_lexer": "ipython3",
   "version": "3.13.4"
  }
 },
 "nbformat": 4,
 "nbformat_minor": 5
}
