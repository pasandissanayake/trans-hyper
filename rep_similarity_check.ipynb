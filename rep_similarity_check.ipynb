{
 "cells": [
  {
   "cell_type": "code",
   "execution_count": 2,
   "id": "602cc3f4",
   "metadata": {},
   "outputs": [
    {
     "name": "stderr",
     "output_type": "stream",
     "text": [
      "/afs/glue.umd.edu/home/glue/p/a/pasand/home/miniconda3/envs/transhyper2/lib/python3.10/site-packages/tqdm/auto.py:21: TqdmWarning: IProgress not found. Please update jupyter and ipywidgets. See https://ipywidgets.readthedocs.io/en/stable/user_install.html\n",
      "  from .autonotebook import tqdm as notebook_tqdm\n"
     ]
    }
   ],
   "source": [
    "import os\n",
    "import numpy as np\n",
    "import pandas as pd\n",
    "import torch\n",
    "import torch.nn as nn\n",
    "from transformers import AutoTokenizer\n",
    "from sklearn.metrics import accuracy_score, f1_score, balanced_accuracy_score\n",
    "import matplotlib.pyplot as plt\n",
    "import seaborn as sns\n",
    "import pickle\n",
    "from sklearn.metrics import confusion_matrix\n",
    "from collections import OrderedDict\n",
    "\n",
    "import torch.optim as optim\n",
    "from torch.utils.data import DataLoader, TensorDataset\n",
    "from sklearn.metrics import balanced_accuracy_score, accuracy_score\n",
    "from tqdm import tqdm\n",
    "\n",
    "from models.t0 import T0RegressionModel\n",
    "from datahandles import TabLLMDataObject, FewshotTabLLMDataset, CombinedTabLLMTextDataset\n",
    "from tabllm.dataset_utils import balance_dataset, load_and_preprocess_dataset\n",
    "from utils import Config, ConfigObject\n",
    "\n",
    "os.environ[\"HF_HOME\"] = \"/export/pasan/.cache/huggingface\"\n",
    "os.environ[\"CUDA_VISIBLE_DEVICES\"] = \"3\""
   ]
  },
  {
   "cell_type": "code",
   "execution_count": 3,
   "id": "3e5b9ee7",
   "metadata": {},
   "outputs": [],
   "source": [
    "def plot_confusion_matrix(y_true, y_pred, class_names=None, normalize=False, cmap='Blues'):\n",
    "    \"\"\"\n",
    "    Displays a confusion matrix.\n",
    "\n",
    "    Parameters:\n",
    "    - y_true: list or array of true labels\n",
    "    - y_pred: list or array of predicted labels\n",
    "    - class_names: list of class names (optional)\n",
    "    - normalize: whether to normalize the matrix (default: False)\n",
    "    - cmap: color map for the heatmap\n",
    "    \"\"\"\n",
    "    cm = confusion_matrix(y_true, y_pred)\n",
    "    \n",
    "    if normalize:\n",
    "        cm = cm.astype('float') / cm.sum(axis=1)[:, np.newaxis]\n",
    "    \n",
    "    plt.figure(figsize=(6, 5))\n",
    "    sns.heatmap(cm, annot=True, fmt=\".2f\" if normalize else \"d\", cmap=cmap,\n",
    "                xticklabels=class_names if class_names else 'auto',\n",
    "                yticklabels=class_names if class_names else 'auto')\n",
    "    \n",
    "    plt.xlabel('Predicted')\n",
    "    plt.ylabel('True')\n",
    "    plt.title('Confusion Matrix' + (' (Normalized)' if normalize else ''))\n",
    "    plt.tight_layout()\n",
    "    plt.show()"
   ]
  },
  {
   "cell_type": "code",
   "execution_count": 4,
   "id": "98fe5e20",
   "metadata": {},
   "outputs": [
    {
     "name": "stdout",
     "output_type": "stream",
     "text": [
      "Hyponet mlp initialized with parameter shapes {'wb0': (104, 10), 'wb1': (11, 10), 'wb2': (11, 10), 'wb3': (11, 2)}\n",
      "Initializing hypernet t0, name: t0, model: bigscience/T0pp\n",
      "t0 hypernet hidden size: 4096\n",
      "total hyponet params: 1282\n"
     ]
    },
    {
     "name": "stderr",
     "output_type": "stream",
     "text": [
      "You are using the default legacy behaviour of the <class 'transformers.models.t5.tokenization_t5.T5Tokenizer'>. This is expected, and simply means that the `legacy` (previous) behavior will be used so nothing changes for you. If you want to use the new behaviour, set `legacy=False`. This should only be set if you understand what it means, and thoroughly read the reason why this was added as explained in https://github.com/huggingface/transformers/pull/24565\n"
     ]
    }
   ],
   "source": [
    "checkpoint_path = f\"save/t0pp-twotrain-bank-income/epoch-6.pth\"\n",
    "\n",
    "checkpoint = torch.load(checkpoint_path, weights_only=False)\n",
    "cfg = Config(cfg_dict=checkpoint[\"cfg\"])\n",
    "model = T0RegressionModel(cfg=cfg)\n",
    "model.load_state_dict(checkpoint['model'])\n",
    "tokenizer = AutoTokenizer.from_pretrained(cfg.tokenizer.model())"
   ]
  },
  {
   "cell_type": "code",
   "execution_count": 12,
   "id": "0bc7788d",
   "metadata": {},
   "outputs": [],
   "source": [
    "def load_tabllm_datasets(train_list:list, test_list:list, balanced:dict, test_ratio:float, train_ratio:float):\n",
    "    cfg_dict = checkpoint[\"cfg\"]\n",
    "    cfg_dict[\"datasets\"][\"list_combine_test\"] = test_list\n",
    "    cfg_dict[\"datasets\"][\"list_combine_train\"] = train_list\n",
    "    cfg_dict[\"datasets\"][\"balanced\"] = balanced\n",
    "    cfg_dict[\"datasets\"][\"tabllm\"][\"txt_data_path\"] = \"tabllm/data/datasets_serialized\"\n",
    "    cfg_dict[\"datasets\"][\"test_ratio\"] = test_ratio\n",
    "    cfg_dict[\"datasets\"][\"train_ratio\"] = train_ratio\n",
    "    cfg_dict[\"datasets\"][\"test_size\"] = \"\"\n",
    "    cfg_dict[\"datasets\"][\"train_size\"] = \"\"\n",
    "    cfg_dict[\"debug\"] = False\n",
    "    cfg = Config(cfg_dict=cfg_dict)\n",
    "\n",
    "    tabllm_do = TabLLMDataObject(cfg=cfg, set_hyponet_in_dim=False)\n",
    "    test_ds = CombinedTabLLMTextDataset(cfg=cfg, \n",
    "                                        split=\"test\", \n",
    "                                        datapoints=[tabllm_do.split_datapoints[ds_name] for ds_name in test_list],\n",
    "                                        max_n_features=cfg.hyponet.in_dim())\n",
    "    train_ds = CombinedTabLLMTextDataset(cfg=cfg, \n",
    "                                         split=\"train\", \n",
    "                                         datapoints=[tabllm_do.split_datapoints[ds_name] for ds_name in train_list], \n",
    "                                         max_n_features=cfg.hyponet.in_dim())\n",
    "\n",
    "    y_test = np.array([test_ds[i][\"y\"] for i in range(len(test_ds))])\n",
    "    X_test = np.array([test_ds[i][\"x\"] for i in range(len(test_ds))])\n",
    "\n",
    "    y_train = np.array([train_ds[i][\"y\"] for i in range(len(train_ds))])\n",
    "    X_train = np.array([train_ds[i][\"x\"] for i in range(len(train_ds))])\n",
    "    print(f\"test_list: {test_list}, X_test.shape: {X_test.shape}, y_test.shape: {y_test.shape}\\ntrain_list: {train_list}, X_train.shape: {X_train.shape}, y_train.shape: {y_train.shape}\")\n",
    "    return X_test, y_test, test_ds, X_train, y_train, train_ds"
   ]
  },
  {
   "cell_type": "markdown",
   "id": "d913bd0e",
   "metadata": {},
   "source": [
    "# Hyponet layer-wise similarity"
   ]
  },
  {
   "cell_type": "code",
   "execution_count": 24,
   "id": "a0751b0d",
   "metadata": {},
   "outputs": [],
   "source": [
    "def dict_to_mlp(weight_dict: dict[str, torch.Tensor], in_dim:int) -> nn.Sequential:\n",
    "    \"\"\"\n",
    "    Convert a dictionary of 'wbX' -> tensor(out_features, in_features+1)\n",
    "    into a PyTorch MLP with the given weights and biases.\n",
    "    \n",
    "    Args:\n",
    "        weight_dict: dict with keys like 'wb0', 'wb1', ... and tensors \n",
    "                     where the last column is the bias.\n",
    "    \n",
    "    Returns:\n",
    "        model: nn.Sequential containing the layers with weights loaded.\n",
    "    \"\"\"\n",
    "    layers = []\n",
    "    \n",
    "    # Sort layers by number (wb0, wb1, ...)\n",
    "    sorted_keys = sorted(weight_dict.keys(), key=lambda k: int(k[2:]))\n",
    "    \n",
    "    for i, key in enumerate(sorted_keys):\n",
    "        in_dim = in_dim + 1 # inputs and bias\n",
    "        wb = weight_dict[key][0]\n",
    "        out_dim = len(wb) // in_dim\n",
    "        wb = torch.reshape(wb, (in_dim, out_dim))\n",
    "\n",
    "        in_features = in_dim - 1  # last col = bias\n",
    "        out_features = out_dim\n",
    "        bias = wb[-1, :]\n",
    "        weight = wb[:-1, :]\n",
    "        \n",
    "        # Create linear layer\n",
    "        layer = nn.Linear(in_features, out_features)\n",
    "        \n",
    "        # Assign weights and bias (ensure no grad issues)\n",
    "        with torch.no_grad():\n",
    "            layer.weight.copy_(torch.transpose(weight, 0 ,1))\n",
    "            layer.bias.copy_(bias)\n",
    "        \n",
    "        layers.append(layer)\n",
    "        \n",
    "        # Optionally add non-linearity (ReLU here, skip after last)\n",
    "        if i < len(sorted_keys) - 1:\n",
    "            layers.append(nn.ReLU())\n",
    "\n",
    "        in_dim = out_dim\n",
    "    \n",
    "    return nn.Sequential(*layers)\n",
    "\n",
    "def get_layer_outputs(model, layers_to_hook):\n",
    "    \"\"\"\n",
    "    Registers forward hooks on specified layers and returns a function to get their outputs.\n",
    "\n",
    "    Args:\n",
    "        model (nn.Module): The model to hook.\n",
    "        layers_to_hook (list[str]): List of layer names (use model.named_modules()) to hook.\n",
    "\n",
    "    Returns:\n",
    "        - hook_handles: list of hook handles (for later removal).\n",
    "        - get_outputs: function that takes an input and returns activations from hooked layers.\n",
    "    \"\"\"\n",
    "    activations = OrderedDict()\n",
    "\n",
    "    def hook_fn(name):\n",
    "        def fn(module, input, output):\n",
    "            # Flatten output for CKA computation: [batch_size, features]\n",
    "            activations[name] = output.view(output.size(0), -1).detach()\n",
    "        return fn\n",
    "\n",
    "    hook_handles = []\n",
    "    for name, module in model.named_modules():\n",
    "        if name in layers_to_hook:\n",
    "            handle = module.register_forward_hook(hook_fn(name))\n",
    "            hook_handles.append(handle)\n",
    "\n",
    "    def get_outputs(x):\n",
    "        activations.clear()  # Clear before forward pass\n",
    "        _ = model(x)\n",
    "        return [activations[name] for name in layers_to_hook]\n",
    "\n",
    "    return hook_handles, get_outputs\n",
    "\n",
    "def center_kernel(K: np.ndarray) -> np.ndarray:\n",
    "    \"\"\"\n",
    "    Center a kernel matrix using the double centering formula:\n",
    "    K_c = K - 1K - K1 + 1K1\n",
    "    \"\"\"\n",
    "    n = K.shape[0]\n",
    "    one_n = np.ones((n, n)) / n\n",
    "    K_centered = K - one_n @ K - K @ one_n + one_n @ K @ one_n\n",
    "    return K_centered\n",
    "\n",
    "def cka_matrix(X: np.ndarray, Y: np.ndarray) -> float:\n",
    "    \"\"\"\n",
    "    Compute the Centered Kernel Alignment (CKA) between two sets of representations.\n",
    "    \n",
    "    Args:\n",
    "        X: (n_samples, d1) activations/logits from model 1\n",
    "        Y: (n_samples, d2) activations/logits from model 2\n",
    "    \n",
    "    Returns:\n",
    "        Scalar CKA similarity between X and Y\n",
    "    \"\"\"\n",
    "    Kx = X @ X.T\n",
    "    Ky = Y @ Y.T\n",
    "    \n",
    "    Kx_centered = center_kernel(Kx)\n",
    "    Ky_centered = center_kernel(Ky)\n",
    "    \n",
    "    numerator = np.sum(Kx_centered * Ky_centered)\n",
    "    denominator = np.sqrt(np.sum(Kx_centered ** 2) * np.sum(Ky_centered ** 2))\n",
    "    \n",
    "    return numerator / denominator\n",
    "\n",
    "def compute_cka_matrix_list(activations1: list[np.ndarray], activations2: list[np.ndarray]) -> np.ndarray:\n",
    "    \"\"\"\n",
    "    Compute pairwise CKA between all activation matrices in a list.\n",
    "    \"\"\"\n",
    "    n = len(activations1)\n",
    "    print(f\"number of activations: {n}\")\n",
    "    cka_mat = np.zeros((n, n))\n",
    "    \n",
    "    for i in range(n):\n",
    "        for j in range(n):\n",
    "            print(f\"computing ({i},{j})-th element. {activations1[i].shape}, {activations2[i].shape}\")\n",
    "            cka_mat[i, j] = cka_matrix(activations1[i], activations2[j])\n",
    "    \n",
    "    return cka_mat\n",
    "\n",
    "def plot_cka_matrix(cka_mat: np.ndarray, layer_names: list[str]=None, vmin:float=0.0, vmax: float=1.0) -> None:\n",
    "    \"\"\"\n",
    "    Plot the CKA matrix using matplotlib.\n",
    "    \"\"\"\n",
    "    fig, ax = plt.subplots(figsize=(6, 5))\n",
    "    im = ax.imshow(cka_mat, cmap=\"viridis\", vmin=vmin, vmax=vmax)\n",
    "    fig.colorbar(im, ax=ax)\n",
    "    \n",
    "    if layer_names is not None:\n",
    "        ax.set_xticks(range(len(layer_names)))\n",
    "        ax.set_yticks(range(len(layer_names)))\n",
    "        ax.set_xticklabels(layer_names, rotation=90)\n",
    "        ax.set_yticklabels(layer_names)\n",
    "    else:\n",
    "        ax.set_xticks(range(cka_mat.shape[0]))\n",
    "        ax.set_yticks(range(cka_mat.shape[0]))\n",
    "    \n",
    "    ax.set_title(\"Centered Kernel Alignment (CKA)\")\n",
    "    plt.tight_layout()\n",
    "    plt.show()\n",
    "\n",
    "def get_hyponet_and_data(n_shots, ds_name):\n",
    "    X_train, y_train, train_ds, X_test, y_test, test_ds = load_tabllm_datasets(train_list=[\"bank\", \"income\"],\n",
    "                                                                               test_list=[ds_name],\n",
    "                                                                               balanced={\"train\": True, \"val\": False, \"test\": False},\n",
    "                                                                               test_ratio=0.2,\n",
    "                                                                               train_ratio=0.5)\n",
    "    if n_shots > 0:\n",
    "        prompt = \"\".join([test_ds[i, True] for i in np.random.randint(low=0, high=len(test_ds), size=n_shots)])\n",
    "    else:\n",
    "        prompt = \"Quick brown fox jumped over the lazy dog!\"\n",
    "        \n",
    "    tokens = tokenizer(prompt, \n",
    "                    truncation=cfg.tokenizer.truncation(), \n",
    "                    padding=cfg.tokenizer.padding(), \n",
    "                    max_length=cfg.tokenizer.max_length(), \n",
    "                    return_tensors='pt')\n",
    "    return model(tokens), X_test, y_test\n",
    "\n",
    "def load_cka_matrix(file):\n",
    "    with open(file, 'rb') as f:\n",
    "        print(f\"loaded CKA matrix from {file}\")\n",
    "        return pickle.load(f)\n",
    "\n",
    "def save_cka_matrix(file, matrix):\n",
    "    with open(file, 'wb') as f:\n",
    "        pickle.dump(matrix, f)\n",
    "        print(f\"saved CKA matrix to {file}\")\n",
    "\n",
    "def print_matrix(matrix):\n",
    "    \"\"\"\n",
    "    Prints a 2D list/NumPy array with aligned columns.\n",
    "    Floats are shown with 4 decimal places.\n",
    "    \"\"\"\n",
    "    for row in matrix:\n",
    "        print(\"  \".join(f\"{val:.4f}\" for val in row))\n"
   ]
  },
  {
   "cell_type": "code",
   "execution_count": 19,
   "id": "5c101c18",
   "metadata": {},
   "outputs": [
    {
     "name": "stdout",
     "output_type": "stream",
     "text": [
      "test_list: ['calhousing'], X_test.shape: (4128, 103), y_test.shape: (4128,)\n",
      "train_list: ['bank', 'income'], X_train.shape: (13882, 103), y_train.shape: (13882,)\n",
      "test_list: ['income'], X_test.shape: (9769, 103), y_test.shape: (9769,)\n",
      "train_list: ['bank', 'income'], X_train.shape: (13882, 103), y_train.shape: (13882,)\n"
     ]
    },
    {
     "data": {
      "text/plain": [
       "HypoMlp(\n",
       "  (relu): ReLU()\n",
       ")"
      ]
     },
     "execution_count": 19,
     "metadata": {},
     "output_type": "execute_result"
    }
   ],
   "source": [
    "n_shots = 128\n",
    "hyponet1, X1, y1 = get_hyponet_and_data(n_shots=n_shots, ds_name='calhousing')\n",
    "hyponet2, X2, y2 = get_hyponet_and_data(n_shots=n_shots, ds_name='income')\n",
    "hyponet1.eval()\n",
    "hyponet2.eval()"
   ]
  },
  {
   "cell_type": "code",
   "execution_count": 20,
   "id": "33729311",
   "metadata": {},
   "outputs": [
    {
     "name": "stdout",
     "output_type": "stream",
     "text": [
      "layers: ['', '0', '1', '2', '3', '4', '5', '6']\n"
     ]
    }
   ],
   "source": [
    "mlp1 = dict_to_mlp(hyponet1.params, in_dim=X1.shape[1])\n",
    "mlp2 = dict_to_mlp(hyponet2.params, in_dim=X2.shape[1])\n",
    "\n",
    "layers = []\n",
    "for i, m in mlp1.named_modules():\n",
    "    layers.append(i)\n",
    "\n",
    "print(f\"layers: {layers}\")\n",
    "handles1, outputs1 = get_layer_outputs(mlp1, layers[1:])\n",
    "handles2, outputs2 = get_layer_outputs(mlp2, layers[1:])"
   ]
  },
  {
   "cell_type": "code",
   "execution_count": null,
   "id": "2e14e896",
   "metadata": {},
   "outputs": [
    {
     "name": "stderr",
     "output_type": "stream",
     "text": [
      "/tmp/ipykernel_42821/3382746844.py:4: DeprecationWarning: __array__ implementation doesn't accept a copy keyword, so passing copy=False failed. __array__ must implement 'dtype' and 'copy' keyword arguments. To learn more, see the migration guide https://numpy.org/devdocs/numpy_2_0_migration_guide.html#adapting-to-changes-in-the-copy-keyword\n",
      "  matrix = compute_cka_matrix_list(activations1=[np.array(a.detach(), dtype=np.float32) for a in acts1],\n",
      "/tmp/ipykernel_42821/3382746844.py:5: DeprecationWarning: __array__ implementation doesn't accept a copy keyword, so passing copy=False failed. __array__ must implement 'dtype' and 'copy' keyword arguments. To learn more, see the migration guide https://numpy.org/devdocs/numpy_2_0_migration_guide.html#adapting-to-changes-in-the-copy-keyword\n",
      "  activations2=[np.array(a.detach(), dtype=np.float32) for a in acts2])\n"
     ]
    },
    {
     "name": "stdout",
     "output_type": "stream",
     "text": [
      "number of activations: 7\n",
      "computing (0,0)-th element. (13882, 10), (13882, 10)\n",
      "computing (0,1)-th element. (13882, 10), (13882, 10)\n",
      "computing (0,2)-th element. (13882, 10), (13882, 10)\n",
      "computing (0,3)-th element. (13882, 10), (13882, 10)\n",
      "computing (0,4)-th element. (13882, 10), (13882, 10)\n",
      "computing (0,5)-th element. (13882, 10), (13882, 10)\n",
      "computing (0,6)-th element. (13882, 10), (13882, 10)\n",
      "computing (1,0)-th element. (13882, 10), (13882, 10)\n",
      "computing (1,1)-th element. (13882, 10), (13882, 10)\n",
      "computing (1,2)-th element. (13882, 10), (13882, 10)\n",
      "computing (1,3)-th element. (13882, 10), (13882, 10)\n",
      "computing (1,4)-th element. (13882, 10), (13882, 10)\n",
      "computing (1,5)-th element. (13882, 10), (13882, 10)\n",
      "computing (1,6)-th element. (13882, 10), (13882, 10)\n",
      "computing (2,0)-th element. (13882, 10), (13882, 10)\n",
      "computing (2,1)-th element. (13882, 10), (13882, 10)\n",
      "computing (2,2)-th element. (13882, 10), (13882, 10)\n",
      "computing (2,3)-th element. (13882, 10), (13882, 10)\n",
      "computing (2,4)-th element. (13882, 10), (13882, 10)\n",
      "computing (2,5)-th element. (13882, 10), (13882, 10)\n",
      "computing (2,6)-th element. (13882, 10), (13882, 10)\n",
      "computing (3,0)-th element. (13882, 10), (13882, 10)\n",
      "computing (3,1)-th element. (13882, 10), (13882, 10)\n",
      "computing (3,2)-th element. (13882, 10), (13882, 10)\n",
      "computing (3,3)-th element. (13882, 10), (13882, 10)\n",
      "computing (3,4)-th element. (13882, 10), (13882, 10)\n",
      "computing (3,5)-th element. (13882, 10), (13882, 10)\n",
      "computing (3,6)-th element. (13882, 10), (13882, 10)\n",
      "computing (4,0)-th element. (13882, 10), (13882, 10)\n",
      "computing (4,1)-th element. (13882, 10), (13882, 10)\n",
      "computing (4,2)-th element. (13882, 10), (13882, 10)\n",
      "computing (4,3)-th element. (13882, 10), (13882, 10)\n",
      "computing (4,4)-th element. (13882, 10), (13882, 10)\n",
      "computing (4,5)-th element. (13882, 10), (13882, 10)\n",
      "computing (4,6)-th element. (13882, 10), (13882, 10)\n",
      "computing (5,0)-th element. (13882, 10), (13882, 10)\n",
      "computing (5,1)-th element. (13882, 10), (13882, 10)\n",
      "computing (5,2)-th element. (13882, 10), (13882, 10)\n",
      "computing (5,3)-th element. (13882, 10), (13882, 10)\n",
      "computing (5,4)-th element. (13882, 10), (13882, 10)\n",
      "computing (5,5)-th element. (13882, 10), (13882, 10)\n",
      "computing (5,6)-th element. (13882, 10), (13882, 10)\n",
      "computing (6,0)-th element. (13882, 2), (13882, 2)\n",
      "computing (6,1)-th element. (13882, 2), (13882, 2)\n",
      "computing (6,2)-th element. (13882, 2), (13882, 2)\n",
      "computing (6,3)-th element. (13882, 2), (13882, 2)\n",
      "computing (6,4)-th element. (13882, 2), (13882, 2)\n",
      "computing (6,5)-th element. (13882, 2), (13882, 2)\n",
      "computing (6,6)-th element. (13882, 2), (13882, 2)\n",
      "saved CKA matrix to ./cka_matrix_same_data_diff_prompt_n128.pkl\n"
     ]
    }
   ],
   "source": [
    "acts1 = outputs1(torch.Tensor(X1))\n",
    "acts2 = outputs2(torch.Tensor(X1))\n",
    "\n",
    "matrix = compute_cka_matrix_list(activations1=[np.array(a.detach(), dtype=np.float32) for a in acts1], \n",
    "                                     activations2=[np.array(a.detach(), dtype=np.float32) for a in acts2])\n",
    "save_cka_matrix(f\"./cka_matrix_same_data_diff_prompt_n{n_shots}_blah.pkl\", matrix)"
   ]
  },
  {
   "cell_type": "code",
   "execution_count": null,
   "id": "2911463f",
   "metadata": {},
   "outputs": [
    {
     "name": "stderr",
     "output_type": "stream",
     "text": [
      "/tmp/ipykernel_3005732/3919453240.py:4: DeprecationWarning: __array__ implementation doesn't accept a copy keyword, so passing copy=False failed. __array__ must implement 'dtype' and 'copy' keyword arguments. To learn more, see the migration guide https://numpy.org/devdocs/numpy_2_0_migration_guide.html#adapting-to-changes-in-the-copy-keyword\n",
      "  matrix = compute_cka_matrix_list(activations1=[np.array(a.detach(), dtype=np.float32) for a in acts1],\n",
      "/tmp/ipykernel_3005732/3919453240.py:5: DeprecationWarning: __array__ implementation doesn't accept a copy keyword, so passing copy=False failed. __array__ must implement 'dtype' and 'copy' keyword arguments. To learn more, see the migration guide https://numpy.org/devdocs/numpy_2_0_migration_guide.html#adapting-to-changes-in-the-copy-keyword\n",
      "  activations2=[np.array(a.detach(), dtype=np.float32) for a in acts2])\n"
     ]
    },
    {
     "name": "stdout",
     "output_type": "stream",
     "text": [
      "number of activations: 7\n",
      "computing (0,0)-th element. (16513, 10), (16513, 10)\n",
      "computing (0,1)-th element. (16513, 10), (16513, 10)\n",
      "computing (0,2)-th element. (16513, 10), (16513, 10)\n",
      "computing (0,3)-th element. (16513, 10), (16513, 10)\n",
      "computing (0,4)-th element. (16513, 10), (16513, 10)\n",
      "computing (0,5)-th element. (16513, 10), (16513, 10)\n",
      "computing (0,6)-th element. (16513, 10), (16513, 10)\n",
      "computing (1,0)-th element. (16513, 10), (16513, 10)\n",
      "computing (1,1)-th element. (16513, 10), (16513, 10)\n",
      "computing (1,2)-th element. (16513, 10), (16513, 10)\n",
      "computing (1,3)-th element. (16513, 10), (16513, 10)\n",
      "computing (1,4)-th element. (16513, 10), (16513, 10)\n",
      "computing (1,5)-th element. (16513, 10), (16513, 10)\n",
      "computing (1,6)-th element. (16513, 10), (16513, 10)\n",
      "computing (2,0)-th element. (16513, 10), (16513, 10)\n",
      "computing (2,1)-th element. (16513, 10), (16513, 10)\n",
      "computing (2,2)-th element. (16513, 10), (16513, 10)\n",
      "computing (2,3)-th element. (16513, 10), (16513, 10)\n",
      "computing (2,4)-th element. (16513, 10), (16513, 10)\n",
      "computing (2,5)-th element. (16513, 10), (16513, 10)\n",
      "computing (2,6)-th element. (16513, 10), (16513, 10)\n",
      "computing (3,0)-th element. (16513, 10), (16513, 10)\n",
      "computing (3,1)-th element. (16513, 10), (16513, 10)\n",
      "computing (3,2)-th element. (16513, 10), (16513, 10)\n",
      "computing (3,3)-th element. (16513, 10), (16513, 10)\n",
      "computing (3,4)-th element. (16513, 10), (16513, 10)\n",
      "computing (3,5)-th element. (16513, 10), (16513, 10)\n",
      "computing (3,6)-th element. (16513, 10), (16513, 10)\n",
      "computing (4,0)-th element. (16513, 10), (16513, 10)\n",
      "computing (4,1)-th element. (16513, 10), (16513, 10)\n",
      "computing (4,2)-th element. (16513, 10), (16513, 10)\n",
      "computing (4,3)-th element. (16513, 10), (16513, 10)\n",
      "computing (4,4)-th element. (16513, 10), (16513, 10)\n",
      "computing (4,5)-th element. (16513, 10), (16513, 10)\n",
      "computing (4,6)-th element. (16513, 10), (16513, 10)\n",
      "computing (5,0)-th element. (16513, 10), (16513, 10)\n",
      "computing (5,1)-th element. (16513, 10), (16513, 10)\n",
      "computing (5,2)-th element. (16513, 10), (16513, 10)\n",
      "computing (5,3)-th element. (16513, 10), (16513, 10)\n",
      "computing (5,4)-th element. (16513, 10), (16513, 10)\n",
      "computing (5,5)-th element. (16513, 10), (16513, 10)\n",
      "computing (5,6)-th element. (16513, 10), (16513, 10)\n",
      "computing (6,0)-th element. (16513, 2), (16513, 2)\n",
      "computing (6,1)-th element. (16513, 2), (16513, 2)\n",
      "computing (6,2)-th element. (16513, 2), (16513, 2)\n",
      "computing (6,3)-th element. (16513, 2), (16513, 2)\n",
      "computing (6,4)-th element. (16513, 2), (16513, 2)\n",
      "computing (6,5)-th element. (16513, 2), (16513, 2)\n",
      "computing (6,6)-th element. (16513, 2), (16513, 2)\n",
      "saved CKA matrix to ./cka_matrix_diff_data_diff_prompt.pkl\n"
     ]
    }
   ],
   "source": [
    "acts1 = outputs1(torch.Tensor(X1))\n",
    "acts2 = outputs2(torch.Tensor(X2[:16513]))\n",
    "\n",
    "matrix = compute_cka_matrix_list(activations1=[np.array(a.detach(), dtype=np.float32) for a in acts1], \n",
    "                                     activations2=[np.array(a.detach(), dtype=np.float32) for a in acts2])\n",
    "save_cka_matrix(\"./blah.pkl\", matrix)"
   ]
  },
  {
   "cell_type": "code",
   "execution_count": 23,
   "id": "d79d359e",
   "metadata": {},
   "outputs": [
    {
     "name": "stdout",
     "output_type": "stream",
     "text": [
      "loaded CKA matrix from ./cka_matrix_same_data_diff_prompt_n128.pkl\n",
      "min: 0.9572072532712624, max: 1.0\n"
     ]
    },
    {
     "data": {
      "image/png": "[encoded data removed]",
      "text/plain": [
       "<Figure size 600x500 with 2 Axes>"
      ]
     },
     "metadata": {},
     "output_type": "display_data"
    }
   ],
   "source": [
    "loaded_matrix = load_cka_matrix(\"./cka_matrix_same_data_diff_prompt_n128.pkl\")\n",
    "print(f\"min: {np.min(loaded_matrix)}, max: {np.max(loaded_matrix)}\")\n",
    "plot_cka_matrix(cka_mat=loaded_matrix, vmin=0.95, vmax=1, layer_names=layers[1:])"
   ]
  },
  {
   "cell_type": "code",
   "execution_count": 25,
   "id": "21c5ad25",
   "metadata": {},
   "outputs": [
    {
     "name": "stdout",
     "output_type": "stream",
     "text": [
      "1.0000  0.9854  0.9840  0.9656  0.9648  0.9583  0.9572\n",
      "0.9854  1.0000  0.9928  0.9870  0.9864  0.9825  0.9817\n",
      "0.9840  0.9928  1.0000  0.9911  0.9910  0.9862  0.9854\n",
      "0.9656  0.9870  0.9911  1.0000  0.9999  0.9993  0.9991\n",
      "0.9648  0.9864  0.9910  0.9999  1.0000  0.9994  0.9992\n",
      "0.9583  0.9825  0.9862  0.9993  0.9994  1.0000  1.0000\n",
      "0.9572  0.9817  0.9854  0.9991  0.9992  1.0000  1.0000\n"
     ]
    }
   ],
   "source": [
    "print_matrix(loaded_matrix)"
   ]
  },
  {
   "cell_type": "markdown",
   "id": "721e1689",
   "metadata": {},
   "source": [
    "# Train raw MLP"
   ]
  },
  {
   "cell_type": "code",
   "execution_count": 13,
   "id": "ff1ff676",
   "metadata": {},
   "outputs": [
    {
     "name": "stdout",
     "output_type": "stream",
     "text": [
      "test_list: ['bank', 'income'], X_test.shape: (75243, 103), y_test.shape: (75243,)\n",
      "train_list: ['calhousing'], X_train.shape: (1904, 103), y_train.shape: (1904,)\n"
     ]
    }
   ],
   "source": [
    "# Load datasets\n",
    "X_test, y_test, test_ds, X_train, y_train, train_ds = load_tabllm_datasets(test_list=[\"bank\", \"income\"],\n",
    "                                                                           train_list=[\"calhousing\"],\n",
    "                                                                           balanced={\"train\": True, \"val\": False, \"test\": False},\n",
    "                                                                           test_ratio=0.8,\n",
    "                                                                           train_ratio=0.1)\n",
    "\n",
    "X_train = torch.tensor(X_train)\n",
    "y_train = torch.tensor(y_train, dtype=torch.long)\n",
    "X_test = torch.tensor(X_test)\n",
    "y_test = torch.tensor(y_test, dtype=torch.long)"
   ]
  },
  {
   "cell_type": "code",
   "execution_count": 14,
   "id": "7a6938f4",
   "metadata": {},
   "outputs": [],
   "source": [
    "class MLP(nn.Module):\n",
    "    def __init__(self, in_dim, hidden_dim, out_dim, *args, **kwargs) -> None:\n",
    "        super().__init__(*args, **kwargs)\n",
    "        self.model = nn.Sequential(\n",
    "            nn.Linear(in_dim, hidden_dim),\n",
    "            nn.ReLU(),\n",
    "            nn.Linear(hidden_dim, hidden_dim),\n",
    "            nn.ReLU(),\n",
    "            nn.Linear(hidden_dim, hidden_dim),\n",
    "            nn.ReLU(),\n",
    "            nn.Linear(hidden_dim, out_dim),\n",
    "        )\n",
    "\n",
    "    def forward(self, X):\n",
    "        return self.model(X)"
   ]
  },
  {
   "cell_type": "code",
   "execution_count": 15,
   "id": "231972e0",
   "metadata": {},
   "outputs": [],
   "source": [
    "def train_mlp_with_loaders(model, \n",
    "                           X_train, y_train, \n",
    "                           X_test, y_test, \n",
    "                           batch_size=32, \n",
    "                           epochs=20, \n",
    "                           lr=1e-3, \n",
    "                           device='cuda'):\n",
    "    \n",
    "    # Create DataLoaders\n",
    "    train_dataset = TensorDataset(X_train, y_train)\n",
    "    test_dataset = TensorDataset(X_test, y_test)\n",
    "    train_loader = DataLoader(train_dataset, batch_size=batch_size, shuffle=True)\n",
    "    test_loader = DataLoader(test_dataset, batch_size=batch_size, shuffle=False)\n",
    "\n",
    "    model = model.to(device)\n",
    "    criterion = nn.CrossEntropyLoss()\n",
    "    optimizer = optim.Adam(model.parameters(), lr=lr)\n",
    "\n",
    "    # Metric storage\n",
    "    train_acc_list, val_acc_list = [], []\n",
    "    train_bal_acc_list, val_bal_acc_list = [], []\n",
    "\n",
    "    for epoch in range(epochs):\n",
    "        # ---- Training ----\n",
    "        model.train()\n",
    "        loop = tqdm(train_loader, desc=f\"Epoch [{epoch+1}/{epochs}]\", leave=False)\n",
    "        for X_batch, y_batch in loop:\n",
    "            X_batch, y_batch = X_batch.to(device), y_batch.to(device)\n",
    "\n",
    "            optimizer.zero_grad()\n",
    "            outputs = model(X_batch)\n",
    "            loss = criterion(outputs, y_batch)\n",
    "            loss.backward()\n",
    "            optimizer.step()\n",
    "\n",
    "            loop.set_postfix(loss=loss.item())\n",
    "\n",
    "        # ---- Compute train metrics ----\n",
    "        model.eval()\n",
    "        train_true, train_pred = [], []\n",
    "        with torch.no_grad():\n",
    "            for Xb, yb in train_loader:\n",
    "                Xb, yb = Xb.to(device), yb.to(device)\n",
    "                preds = model(Xb).argmax(dim=1)\n",
    "                train_true.extend(yb.cpu().numpy())\n",
    "                train_pred.extend(preds.cpu().numpy())\n",
    "        train_acc = accuracy_score(train_true, train_pred)\n",
    "        train_bal_acc = balanced_accuracy_score(train_true, train_pred)\n",
    "\n",
    "        # ---- Compute validation metrics ----\n",
    "        val_true, val_pred = [], []\n",
    "        with torch.no_grad():\n",
    "            for Xb, yb in test_loader:\n",
    "                Xb, yb = Xb.to(device), yb.to(device)\n",
    "                preds = model(Xb).argmax(dim=1)\n",
    "                val_true.extend(yb.cpu().numpy())\n",
    "                val_pred.extend(preds.cpu().numpy())\n",
    "        val_acc = accuracy_score(val_true, val_pred)\n",
    "        val_bal_acc = balanced_accuracy_score(val_true, val_pred)\n",
    "\n",
    "        # Store\n",
    "        train_acc_list.append(train_acc)\n",
    "        train_bal_acc_list.append(train_bal_acc)\n",
    "        val_acc_list.append(val_acc)\n",
    "        val_bal_acc_list.append(val_bal_acc)\n",
    "\n",
    "        tqdm.write(\n",
    "            f\"Epoch {epoch+1}/{epochs} \"\n",
    "            f\"- Train Acc: {train_acc:.4f}, Train BalAcc: {train_bal_acc:.4f} \"\n",
    "            f\"- Val Acc: {val_acc:.4f}, Val BalAcc: {val_bal_acc:.4f}\"\n",
    "        )\n",
    "\n",
    "    # ---- Plot ----\n",
    "    plt.figure(figsize=(10,5))\n",
    "    plt.plot(range(1, epochs+1), train_acc_list, label='Train Accuracy', marker='x')\n",
    "    plt.plot(range(1, epochs+1), val_acc_list, label='Val Accuracy', marker='x')\n",
    "    plt.plot(range(1, epochs+1), train_bal_acc_list, label='Train Balanced Acc', marker='s')\n",
    "    plt.plot(range(1, epochs+1), val_bal_acc_list, label='Val Balanced Acc', marker='s')\n",
    "    plt.xlabel(\"Epoch\")\n",
    "    plt.ylabel(\"Score\")\n",
    "    plt.title(\"Train vs Validation Metrics per Epoch\")\n",
    "    plt.legend()\n",
    "    plt.grid(True)\n",
    "    plt.show()\n",
    "\n",
    "    return {\n",
    "        \"train_acc\": train_acc_list,\n",
    "        \"train_bal_acc\": train_bal_acc_list,\n",
    "        \"val_acc\": val_acc_list,\n",
    "        \"val_bal_acc\": val_bal_acc_list\n",
    "    }"
   ]
  },
  {
   "cell_type": "code",
   "execution_count": 16,
   "id": "62dc7c64",
   "metadata": {},
   "outputs": [
    {
     "name": "stderr",
     "output_type": "stream",
     "text": [
      "                                                                          \r"
     ]
    },
    {
     "name": "stdout",
     "output_type": "stream",
     "text": [
      "Epoch 1/20 - Train Acc: 0.5000, Train BalAcc: 0.5000 - Val Acc: 0.1908, Val BalAcc: 0.5000\n"
     ]
    },
    {
     "name": "stderr",
     "output_type": "stream",
     "text": [
      "                                                                          \r"
     ]
    },
    {
     "name": "stdout",
     "output_type": "stream",
     "text": [
      "Epoch 2/20 - Train Acc: 0.7910, Train BalAcc: 0.7910 - Val Acc: 0.5612, Val BalAcc: 0.6355\n"
     ]
    },
    {
     "name": "stderr",
     "output_type": "stream",
     "text": [
      "                                                                          \r"
     ]
    },
    {
     "name": "stdout",
     "output_type": "stream",
     "text": [
      "Epoch 3/20 - Train Acc: 0.8099, Train BalAcc: 0.8099 - Val Acc: 0.5263, Val BalAcc: 0.6231\n"
     ]
    },
    {
     "name": "stderr",
     "output_type": "stream",
     "text": [
      "                                                                          \r"
     ]
    },
    {
     "name": "stdout",
     "output_type": "stream",
     "text": [
      "Epoch 4/20 - Train Acc: 0.8151, Train BalAcc: 0.8151 - Val Acc: 0.5203, Val BalAcc: 0.6204\n"
     ]
    },
    {
     "name": "stderr",
     "output_type": "stream",
     "text": [
      "                                                                          \r"
     ]
    },
    {
     "name": "stdout",
     "output_type": "stream",
     "text": [
      "Epoch 5/20 - Train Acc: 0.8178, Train BalAcc: 0.8178 - Val Acc: 0.5164, Val BalAcc: 0.6186\n"
     ]
    },
    {
     "name": "stderr",
     "output_type": "stream",
     "text": [
      "                                                                          \r"
     ]
    },
    {
     "name": "stdout",
     "output_type": "stream",
     "text": [
      "Epoch 6/20 - Train Acc: 0.8178, Train BalAcc: 0.8178 - Val Acc: 0.5364, Val BalAcc: 0.6209\n"
     ]
    },
    {
     "name": "stderr",
     "output_type": "stream",
     "text": [
      "                                                                          \r"
     ]
    },
    {
     "name": "stdout",
     "output_type": "stream",
     "text": [
      "Epoch 7/20 - Train Acc: 0.8283, Train BalAcc: 0.8283 - Val Acc: 0.5007, Val BalAcc: 0.6134\n"
     ]
    },
    {
     "name": "stderr",
     "output_type": "stream",
     "text": [
      "                                                                          \r"
     ]
    },
    {
     "name": "stdout",
     "output_type": "stream",
     "text": [
      "Epoch 8/20 - Train Acc: 0.8272, Train BalAcc: 0.8272 - Val Acc: 0.4666, Val BalAcc: 0.6043\n"
     ]
    },
    {
     "name": "stderr",
     "output_type": "stream",
     "text": [
      "                                                                          \r"
     ]
    },
    {
     "name": "stdout",
     "output_type": "stream",
     "text": [
      "Epoch 9/20 - Train Acc: 0.8361, Train BalAcc: 0.8361 - Val Acc: 0.4330, Val BalAcc: 0.5937\n"
     ]
    },
    {
     "name": "stderr",
     "output_type": "stream",
     "text": [
      "                                                                           \r"
     ]
    },
    {
     "name": "stdout",
     "output_type": "stream",
     "text": [
      "Epoch 10/20 - Train Acc: 0.8372, Train BalAcc: 0.8372 - Val Acc: 0.4209, Val BalAcc: 0.5900\n"
     ]
    },
    {
     "name": "stderr",
     "output_type": "stream",
     "text": [
      "                                                                           \r"
     ]
    },
    {
     "name": "stdout",
     "output_type": "stream",
     "text": [
      "Epoch 11/20 - Train Acc: 0.8382, Train BalAcc: 0.8382 - Val Acc: 0.4535, Val BalAcc: 0.5989\n"
     ]
    },
    {
     "name": "stderr",
     "output_type": "stream",
     "text": [
      "                                                                           \r"
     ]
    },
    {
     "name": "stdout",
     "output_type": "stream",
     "text": [
      "Epoch 12/20 - Train Acc: 0.8382, Train BalAcc: 0.8382 - Val Acc: 0.4150, Val BalAcc: 0.5876\n"
     ]
    },
    {
     "name": "stderr",
     "output_type": "stream",
     "text": [
      "                                                                           \r"
     ]
    },
    {
     "name": "stdout",
     "output_type": "stream",
     "text": [
      "Epoch 13/20 - Train Acc: 0.8419, Train BalAcc: 0.8419 - Val Acc: 0.4039, Val BalAcc: 0.5845\n"
     ]
    },
    {
     "name": "stderr",
     "output_type": "stream",
     "text": [
      "                                                                           \r"
     ]
    },
    {
     "name": "stdout",
     "output_type": "stream",
     "text": [
      "Epoch 14/20 - Train Acc: 0.8409, Train BalAcc: 0.8409 - Val Acc: 0.4373, Val BalAcc: 0.5944\n"
     ]
    },
    {
     "name": "stderr",
     "output_type": "stream",
     "text": [
      "                                                                           \r"
     ]
    },
    {
     "name": "stdout",
     "output_type": "stream",
     "text": [
      "Epoch 15/20 - Train Acc: 0.8466, Train BalAcc: 0.8466 - Val Acc: 0.4186, Val BalAcc: 0.5882\n"
     ]
    },
    {
     "name": "stderr",
     "output_type": "stream",
     "text": [
      "                                                                           \r"
     ]
    },
    {
     "name": "stdout",
     "output_type": "stream",
     "text": [
      "Epoch 16/20 - Train Acc: 0.8466, Train BalAcc: 0.8466 - Val Acc: 0.4338, Val BalAcc: 0.5931\n"
     ]
    },
    {
     "name": "stderr",
     "output_type": "stream",
     "text": [
      "                                                                           \r"
     ]
    },
    {
     "name": "stdout",
     "output_type": "stream",
     "text": [
      "Epoch 17/20 - Train Acc: 0.8487, Train BalAcc: 0.8487 - Val Acc: 0.3979, Val BalAcc: 0.5813\n"
     ]
    },
    {
     "name": "stderr",
     "output_type": "stream",
     "text": [
      "                                                                           \r"
     ]
    },
    {
     "name": "stdout",
     "output_type": "stream",
     "text": [
      "Epoch 18/20 - Train Acc: 0.8477, Train BalAcc: 0.8477 - Val Acc: 0.4237, Val BalAcc: 0.5900\n"
     ]
    },
    {
     "name": "stderr",
     "output_type": "stream",
     "text": [
      "                                                                           \r"
     ]
    },
    {
     "name": "stdout",
     "output_type": "stream",
     "text": [
      "Epoch 19/20 - Train Acc: 0.8409, Train BalAcc: 0.8409 - Val Acc: 0.4493, Val BalAcc: 0.5977\n"
     ]
    },
    {
     "name": "stderr",
     "output_type": "stream",
     "text": [
      "                                                                           \r"
     ]
    },
    {
     "name": "stdout",
     "output_type": "stream",
     "text": [
      "Epoch 20/20 - Train Acc: 0.8514, Train BalAcc: 0.8514 - Val Acc: 0.4190, Val BalAcc: 0.5888\n"
     ]
    },
    {
     "data": {
      "image/png": "[encoded data removed]",
      "text/plain": [
       "<Figure size 1000x500 with 1 Axes>"
      ]
     },
     "metadata": {},
     "output_type": "display_data"
    }
   ],
   "source": [
    "mlp = MLP(in_dim=103, hidden_dim=10, out_dim=2)\n",
    "n_cols_test = X_test.shape[1]\n",
    "perm = np.random.randint(low=0, high=n_cols_test, size=n_cols_test)\n",
    "metrics = train_mlp_with_loaders(model=mlp, \n",
    "                                 X_train=X_train, \n",
    "                                 y_train=y_train, \n",
    "                                 X_test=X_test[:, perm], \n",
    "                                 y_test=y_test)"
   ]
  },
  {
   "cell_type": "code",
   "execution_count": 52,
   "id": "258199b1",
   "metadata": {},
   "outputs": [
    {
     "data": {
      "text/plain": [
       "<matplotlib.legend.Legend at 0x7f0f157cea70>"
      ]
     },
     "execution_count": 52,
     "metadata": {},
     "output_type": "execute_result"
    },
    {
     "data": {
      "image/png": "[encoded data removed]",
      "text/plain": [
       "<Figure size 640x480 with 1 Axes>"
      ]
     },
     "metadata": {},
     "output_type": "display_data"
    }
   ],
   "source": [
    "plt.plot(metrics[\"train_acc\"], label=\"train acc\", marker=\"o\")\n",
    "plt.plot(metrics[\"val_acc\"], label=\"val acc\", marker=\"o\")\n",
    "plt.legend()"
   ]
  }
 ],
 "metadata": {
  "kernelspec": {
   "display_name": "transhyper2",
   "language": "python",
   "name": "python3"
  },
  "language_info": {
   "codemirror_mode": {
    "name": "ipython",
    "version": 3
   },
   "file_extension": ".py",
   "mimetype": "text/x-python",
   "name": "python",
   "nbconvert_exporter": "python",
   "pygments_lexer": "ipython3",
   "version": "3.10.18"
  }
 },
 "nbformat": 4,
 "nbformat_minor": 5
}
