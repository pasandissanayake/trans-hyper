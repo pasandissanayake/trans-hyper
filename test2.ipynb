{
 "cells": [
  {
   "cell_type": "code",
   "execution_count": 3,
   "id": "c1bcc92d",
   "metadata": {},
   "outputs": [],
   "source": [
    "from datahandles import MetaDatasetBuilder"
   ]
  },
  {
   "cell_type": "code",
   "execution_count": 5,
   "id": "bc36770f",
   "metadata": {},
   "outputs": [
    {
     "name": "stdout",
     "output_type": "stream",
     "text": [
      "Split: train, number of data point: {'calhousing': 100}, balanced: True\n",
      "Total number of datapoints: 100\n",
      "Split: val, number of data point: {'income': 100}, balanced: False\n",
      "Total number of datapoints: 100\n",
      "Split: test, number of data point: {'credit_risk': 2000}, balanced: False\n",
      "Total number of datapoints: 2000\n"
     ]
    }
   ],
   "source": [
    "meta_data = MetaDatasetBuilder(data_root=\"./data\",\n",
    "                               train_datasets=[\"calhousing\"],\n",
    "                               val_datasets=[\"income\"],\n",
    "                               test_datasets=[\"credit_risk\"],\n",
    "                               train_size=100,\n",
    "                               val_size=100,\n",
    "                               test_size=2000,\n",
    "                               train_permutation=[],\n",
    "                               val_permutation=[],\n",
    "                               test_permutation=[],\n",
    "                               train_balance=True,\n",
    "                               val_balance=False,\n",
    "                               test_balance=False,\n",
    "                               n_shots=5,\n",
    "                               n_queries=3,\n",
    "                               max_n_features=103,\n",
    "                               shuffle=True,\n",
    "                               queries_same_as_shots=False,\n",
    "                               debug=True,\n",
    "                               shots_with_labels={\"train\": True, \"val\": True, \"test\": False}\n",
    "                               )"
   ]
  },
  {
   "cell_type": "code",
   "execution_count": 6,
   "id": "24067f53",
   "metadata": {},
   "outputs": [],
   "source": [
    "datasets = meta_data.get_datasets()"
   ]
  },
  {
   "cell_type": "code",
   "execution_count": 13,
   "id": "76fbc045",
   "metadata": {},
   "outputs": [],
   "source": [
    "train_ds = datasets[\"train\"]"
   ]
  },
  {
   "cell_type": "code",
   "execution_count": 14,
   "id": "affa317e",
   "metadata": {},
   "outputs": [
    {
     "name": "stdout",
     "output_type": "stream",
     "text": [
      "Example 0: The housing median age is 33.0. The median income is 4.0529. The latitude is 34.12. The number of households is 386.0. The longitude is -117.9. The total number of bedrooms is 361.0. The total rooms is 1555.0. The population is 1571.0. Is this house block valuable? Yes or no? The answer is no.\n",
      "\n",
      "Example 1: The housing median age is 28.0. The median income is 1.9026. The latitude is 33.92. The number of households is 930.0. The longitude is -118.21. The total number of bedrooms is 1003.0. The total rooms is 2949.0. The population is 4551.0. Is this house block valuable? Yes or no? The answer is no.\n",
      "\n",
      "Example 2: The housing median age is 34.0. The median income is 5.8411. The latitude is 34.47. The number of households is 502.0. The longitude is -119.72. The total number of bedrooms is 533.0. The total rooms is 3262.0. The population is 1265.0. Is this house block valuable? Yes or no? The answer is yes.\n",
      "\n",
      "Example 3: The housing median age is 35.0. The median income is 6.2028. The latitude is 33.72. The number of households is 441.0. The longitude is -118.3. The total number of bedrooms is 447.0. The total rooms is 2790.0. The population is 1167.0. Is this house block valuable? Yes or no? The answer is yes.\n",
      "\n",
      "Example 4: The housing median age is 30.0. The median income is 1.9929. The latitude is 33.98. The number of households is 955.0. The longitude is -118.23. The total number of bedrooms is 959.0. The total rooms is 2562.0. The population is 3909.0. Is this house block valuable? Yes or no? The answer is no.\n",
      "\n",
      "\n"
     ]
    }
   ],
   "source": [
    "print(train_ds[7, True][\"shots\"])"
   ]
  },
  {
   "cell_type": "code",
   "execution_count": 7,
   "id": "624fbe0c",
   "metadata": {},
   "outputs": [],
   "source": [
    "test_ds = datasets[\"test\"]"
   ]
  },
  {
   "cell_type": "code",
   "execution_count": 10,
   "id": "8b2612a6",
   "metadata": {},
   "outputs": [
    {
     "name": "stdout",
     "output_type": "stream",
     "text": [
      "Example 0: The age is 26. The income is 95672. The loan amount is 161213. The credit score is 802. The months employed is 18. The number of credit lines is 3. The interest rate is 13.14. The loan term is 48. The DTI ratio is 0.13. The education is High School. The employment type is Part-time. The marital status is Single. Will this loan default? Yes or no?\n",
      "\n",
      "Example 1: The age is 44. The income is 77969. The loan amount is 239997. The credit score is 492. The months employed is 48. The number of credit lines is 4. The interest rate is 8.22. The loan term is 48. The DTI ratio is 0.73. The education is Master's. The employment type is Self-employed. The marital status is Married. Will this loan default? Yes or no?\n",
      "\n",
      "Example 2: The age is 59. The income is 45896. The loan amount is 244533. The credit score is 642. The months employed is 116. The number of credit lines is 1. The interest rate is 6.83. The loan term is 48. The DTI ratio is 0.13. The education is Bachelor's. The employment type is Full-time. The marital status is Married. Will this loan default? Yes or no?\n",
      "\n",
      "Example 3: The age is 19. The income is 109070. The loan amount is 141073. The credit score is 504. The months employed is 65. The number of credit lines is 4. The interest rate is 3.48. The loan term is 48. The DTI ratio is 0.75. The education is PhD. The employment type is Unemployed. The marital status is Single. Will this loan default? Yes or no?\n",
      "\n",
      "Example 4: The age is 22. The income is 85278. The loan amount is 198031. The credit score is 659. The months employed is 21. The number of credit lines is 2. The interest rate is 17.28. The loan term is 60. The DTI ratio is 0.27. The education is Bachelor's. The employment type is Full-time. The marital status is Married. Will this loan default? Yes or no?\n",
      "\n",
      "\n"
     ]
    }
   ],
   "source": [
    "print(test_ds[6]['shots'])"
   ]
  }
 ],
 "metadata": {
  "kernelspec": {
   "display_name": "transhyper2",
   "language": "python",
   "name": "python3"
  },
  "language_info": {
   "codemirror_mode": {
    "name": "ipython",
    "version": 3
   },
   "file_extension": ".py",
   "mimetype": "text/x-python",
   "name": "python",
   "nbconvert_exporter": "python",
   "pygments_lexer": "ipython3",
   "version": "3.10.18"
  }
 },
 "nbformat": 4,
 "nbformat_minor": 5
}
