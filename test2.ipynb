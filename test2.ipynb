{
 "cells": [
  {
   "cell_type": "code",
   "execution_count": 1,
   "id": "c1bcc92d",
   "metadata": {},
   "outputs": [
    {
     "name": "stderr",
     "output_type": "stream",
     "text": [
      "/afs/glue.umd.edu/home/glue/p/a/pasand/home/miniconda3/envs/transhyper2/lib/python3.10/site-packages/tqdm/auto.py:21: TqdmWarning: IProgress not found. Please update jupyter and ipywidgets. See https://ipywidgets.readthedocs.io/en/stable/user_install.html\n",
      "  from .autonotebook import tqdm as notebook_tqdm\n"
     ]
    }
   ],
   "source": [
    "from datahandles import MetaDatasetBuilder"
   ]
  },
  {
   "cell_type": "code",
   "execution_count": 2,
   "id": "bc36770f",
   "metadata": {},
   "outputs": [],
   "source": [
    "meta_data = MetaDatasetBuilder(data_root=\"./data\",\n",
    "                               train_datasets=[\"loan_default\"],\n",
    "                               val_datasets=[\"adult_income\"],\n",
    "                               test_datasets=[\"credit_risk\"],\n",
    "                               train_size=100,\n",
    "                               val_size=10,\n",
    "                               test_size=100,\n",
    "                               n_shots=5,\n",
    "                               n_queries=3,\n",
    "                               max_n_features=103,\n",
    "                               col_permutation=[],\n",
    "                               shuffle=True,\n",
    "                               queries_same_as_shots=False,\n",
    "                               )"
   ]
  },
  {
   "cell_type": "code",
   "execution_count": 3,
   "id": "24067f53",
   "metadata": {},
   "outputs": [],
   "source": [
    "datasets = meta_data.get_datasets()"
   ]
  },
  {
   "cell_type": "code",
   "execution_count": 4,
   "id": "76fbc045",
   "metadata": {},
   "outputs": [],
   "source": [
    "train_ds = datasets[\"train\"]"
   ]
  },
  {
   "cell_type": "code",
   "execution_count": 8,
   "id": "affa317e",
   "metadata": {},
   "outputs": [
    {
     "name": "stdout",
     "output_type": "stream",
     "text": [
      "Example: year is 2019. loan limit is conforming. gender is Sex Not Available. approval in advance is No. loan type is type2. loan purpose is p3. credit worthiness is l1. open credit is no open credit. business or commercial is business or commercial. loan amount is 136500. term is 360.0. negative amortization is not present. interest only is not_int. lump sum payment is not involved. construction type is sb. occupancy type is pr. secured by is home. total units is 1U. income is 2460.0. credit type is EXP. credit score is 842. co-applicant credit type is CIB. age is 25-34. submission of application is to inst. region is south. type of security is direct. Will this loan default? Answer with Yes or No. The answer is No.\n",
      "\n",
      "Example: year is 2019. loan limit is conforming. gender is Female. approval in advance is No. loan type is type2. loan purpose is p1. credit worthiness is l1. open credit is no open credit. business or commercial is business or commercial. loan amount is 366500. term is 360.0. negative amortization is not present. interest only is not_int. lump sum payment is not involved. construction type is sb. occupancy type is pr. secured by is home. total units is 1U. income is 6420.0. credit type is CIB. credit score is 578. co-applicant credit type is CIB. age is 55-64. submission of application is not to inst. region is North. type of security is direct. Will this loan default? Answer with Yes or No. The answer is No.\n",
      "\n",
      "Example: year is 2019. loan limit is conforming. gender is Joint. approval in advance is No. loan type is type1. loan purpose is p3. credit worthiness is l1. open credit is no open credit. business or commercial is not business or commercial. loan amount is 366500. term is 360.0. negative amortization is not present. interest only is not_int. lump sum payment is not involved. construction type is sb. occupancy type is pr. secured by is home. total units is 1U. income is 5700.0. credit type is EQUI. credit score is 635. co-applicant credit type is EXP. age is 55-64. submission of application is to inst. region is North. type of security is direct. Will this loan default? Answer with Yes or No. The answer is Yes.\n",
      "\n",
      "Example: year is 2019. loan limit is conforming. gender is Male. approval in advance is No. loan type is type1. loan purpose is p3. credit worthiness is l1. open credit is no open credit. business or commercial is not business or commercial. loan amount is 466500. term is 360.0. negative amortization is not present. interest only is int_only. lump sum payment is not involved. construction type is sb. occupancy type is pr. secured by is home. total units is 1U. income is 10320.0. credit type is EQUI. credit score is 582. co-applicant credit type is EXP. age is 35-44. submission of application is not to inst. region is North. type of security is direct. Will this loan default? Answer with Yes or No. The answer is Yes.\n",
      "\n",
      "Example: year is 2019. loan limit is non-conforming. gender is Female. approval in advance is Yes. loan type is type1. loan purpose is p1. credit worthiness is l1. open credit is no open credit. business or commercial is not business or commercial. loan amount is 316500. term is 360.0. negative amortization is not present. interest only is not_int. lump sum payment is not involved. construction type is sb. occupancy type is pr. secured by is home. total units is 1U. income is 3960.0. credit type is CIB. credit score is 786. co-applicant credit type is CIB. age is 35-44. submission of application is not to inst. region is south. type of security is direct. Will this loan default? Answer with Yes or No. The answer is No.\n",
      "\n",
      "\n"
     ]
    }
   ],
   "source": [
    "print(train_ds[8][\"shots\"])"
   ]
  },
  {
   "cell_type": "code",
   "execution_count": 10,
   "id": "624fbe0c",
   "metadata": {},
   "outputs": [],
   "source": [
    "test_ds = datasets[\"test\"]"
   ]
  },
  {
   "cell_type": "code",
   "execution_count": 12,
   "id": "8b2612a6",
   "metadata": {},
   "outputs": [
    {
     "data": {
      "text/plain": [
       "{'dataset': np.str_('credit_risk'),\n",
       " 'shots': 'Example: age is 40. income is 31813. loan amount is 56871. credit score is 839. months employed is 113. number of credit lines is 1. interest rate is 12.84. loan term is 60. DTI ratio is 0.43. education is PhD. employment type is Full-time. marital status is Married. has mortgage is Yes. has dependents is Yes. loan purpose is Other. has co-signer is No. Will this loan default? Answer with Yes or No. The answer is No.\\n\\nExample: age is 47. income is 64316. loan amount is 139805. credit score is 696. months employed is 12. number of credit lines is 2. interest rate is 2.49. loan term is 12. DTI ratio is 0.82. education is High School. employment type is Full-time. marital status is Divorced. has mortgage is No. has dependents is Yes. loan purpose is Auto. has co-signer is Yes. Will this loan default? Answer with Yes or No. The answer is No.\\n\\nExample: age is 61. income is 15612. loan amount is 217899. credit score is 395. months employed is 119. number of credit lines is 1. interest rate is 19.35. loan term is 60. DTI ratio is 0.32. education is PhD. employment type is Unemployed. marital status is Single. has mortgage is No. has dependents is No. loan purpose is Home. has co-signer is Yes. Will this loan default? Answer with Yes or No. The answer is Yes.\\n\\nExample: age is 19. income is 16729. loan amount is 101758. credit score is 554. months employed is 104. number of credit lines is 3. interest rate is 19.83. loan term is 12. DTI ratio is 0.89. education is High School. employment type is Unemployed. marital status is Married. has mortgage is Yes. has dependents is No. loan purpose is Other. has co-signer is Yes. Will this loan default? Answer with Yes or No. The answer is Yes.\\n\\nExample: age is 28. income is 134378. loan amount is 140972. credit score is 624. months employed is 62. number of credit lines is 4. interest rate is 7.16. loan term is 36. DTI ratio is 0.64. education is High School. employment type is Unemployed. marital status is Married. has mortgage is Yes. has dependents is Yes. loan purpose is Home. has co-signer is Yes. Will this loan default? Answer with Yes or No. The answer is No.\\n\\n',\n",
       " 'queries_x': tensor([[ 0.0159, -0.6878, -0.4371,  1.1451,  0.7440,  0.4349,  0.2635, -0.7544,\n",
       "          -0.7953,  0.0000,  1.0000,  0.0000,  0.0000,  1.0000,  0.0000,  0.0000,\n",
       "           0.0000,  0.0000,  1.0000,  0.0000,  1.0000,  0.0000,  1.0000,  0.0000,\n",
       "           0.0000,  0.0000,  1.0000,  0.0000,  0.0000,  0.0000,  1.0000,  0.0000,\n",
       "           0.0000,  0.0000,  0.0000,  0.0000,  0.0000,  0.0000,  0.0000,  0.0000,\n",
       "           0.0000,  0.0000,  0.0000,  0.0000,  0.0000,  0.0000,  0.0000,  0.0000,\n",
       "           0.0000,  0.0000,  0.0000,  0.0000,  0.0000,  0.0000,  0.0000,  0.0000,\n",
       "           0.0000,  0.0000,  0.0000,  0.0000,  0.0000,  0.0000,  0.0000,  0.0000,\n",
       "           0.0000,  0.0000,  0.0000,  0.0000,  0.0000,  0.0000,  0.0000,  0.0000,\n",
       "           0.0000,  0.0000,  0.0000,  0.0000,  0.0000,  0.0000,  0.0000,  0.0000,\n",
       "           0.0000,  0.0000,  0.0000,  0.0000,  0.0000,  0.0000,  0.0000,  0.0000,\n",
       "           0.0000,  0.0000,  0.0000,  0.0000,  0.0000,  0.0000,  0.0000,  0.0000,\n",
       "           0.0000,  0.0000,  0.0000,  0.0000,  0.0000,  0.0000,  0.0000],\n",
       "         [-1.3091, -0.9396,  0.6536, -0.5789,  1.4663, -0.4526,  1.2584, -0.7544,\n",
       "          -1.3587,  0.0000,  0.0000,  1.0000,  0.0000,  0.0000,  1.0000,  0.0000,\n",
       "           0.0000,  0.0000,  0.0000,  1.0000,  0.0000,  1.0000,  0.0000,  1.0000,\n",
       "           0.0000,  0.0000,  1.0000,  0.0000,  0.0000,  1.0000,  0.0000,  0.0000,\n",
       "           0.0000,  0.0000,  0.0000,  0.0000,  0.0000,  0.0000,  0.0000,  0.0000,\n",
       "           0.0000,  0.0000,  0.0000,  0.0000,  0.0000,  0.0000,  0.0000,  0.0000,\n",
       "           0.0000,  0.0000,  0.0000,  0.0000,  0.0000,  0.0000,  0.0000,  0.0000,\n",
       "           0.0000,  0.0000,  0.0000,  0.0000,  0.0000,  0.0000,  0.0000,  0.0000,\n",
       "           0.0000,  0.0000,  0.0000,  0.0000,  0.0000,  0.0000,  0.0000,  0.0000,\n",
       "           0.0000,  0.0000,  0.0000,  0.0000,  0.0000,  0.0000,  0.0000,  0.0000,\n",
       "           0.0000,  0.0000,  0.0000,  0.0000,  0.0000,  0.0000,  0.0000,  0.0000,\n",
       "           0.0000,  0.0000,  0.0000,  0.0000,  0.0000,  0.0000,  0.0000,  0.0000,\n",
       "           0.0000,  0.0000,  0.0000,  0.0000,  0.0000,  0.0000,  0.0000],\n",
       "         [ 0.0159,  1.6369, -0.7803,  0.3947, -0.4984, -1.3402,  1.1686, -0.0393,\n",
       "          -0.2753,  1.0000,  0.0000,  0.0000,  0.0000,  1.0000,  0.0000,  0.0000,\n",
       "           0.0000,  0.0000,  0.0000,  1.0000,  0.0000,  1.0000,  0.0000,  1.0000,\n",
       "           0.0000,  0.0000,  0.0000,  1.0000,  0.0000,  1.0000,  0.0000,  0.0000,\n",
       "           0.0000,  0.0000,  0.0000,  0.0000,  0.0000,  0.0000,  0.0000,  0.0000,\n",
       "           0.0000,  0.0000,  0.0000,  0.0000,  0.0000,  0.0000,  0.0000,  0.0000,\n",
       "           0.0000,  0.0000,  0.0000,  0.0000,  0.0000,  0.0000,  0.0000,  0.0000,\n",
       "           0.0000,  0.0000,  0.0000,  0.0000,  0.0000,  0.0000,  0.0000,  0.0000,\n",
       "           0.0000,  0.0000,  0.0000,  0.0000,  0.0000,  0.0000,  0.0000,  0.0000,\n",
       "           0.0000,  0.0000,  0.0000,  0.0000,  0.0000,  0.0000,  0.0000,  0.0000,\n",
       "           0.0000,  0.0000,  0.0000,  0.0000,  0.0000,  0.0000,  0.0000,  0.0000,\n",
       "           0.0000,  0.0000,  0.0000,  0.0000,  0.0000,  0.0000,  0.0000,  0.0000,\n",
       "           0.0000,  0.0000,  0.0000,  0.0000,  0.0000,  0.0000,  0.0000]]),\n",
       " 'queries_y': tensor([0, 1, 0])}"
      ]
     },
     "execution_count": 12,
     "metadata": {},
     "output_type": "execute_result"
    }
   ],
   "source": [
    "test_ds[6]"
   ]
  }
 ],
 "metadata": {
  "kernelspec": {
   "display_name": "transhyper2",
   "language": "python",
   "name": "python3"
  },
  "language_info": {
   "codemirror_mode": {
    "name": "ipython",
    "version": 3
   },
   "file_extension": ".py",
   "mimetype": "text/x-python",
   "name": "python",
   "nbconvert_exporter": "python",
   "pygments_lexer": "ipython3",
   "version": "3.10.18"
  }
 },
 "nbformat": 4,
 "nbformat_minor": 5
}
