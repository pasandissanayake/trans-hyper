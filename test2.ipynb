{
 "cells": [
  {
   "cell_type": "code",
   "execution_count": 1,
   "id": "c1bcc92d",
   "metadata": {},
   "outputs": [
    {
     "name": "stderr",
     "output_type": "stream",
     "text": [
      "/afs/glue.umd.edu/home/glue/p/a/pasand/home/miniconda3/envs/transhyper2/lib/python3.10/site-packages/tqdm/auto.py:21: TqdmWarning: IProgress not found. Please update jupyter and ipywidgets. See https://ipywidgets.readthedocs.io/en/stable/user_install.html\n",
      "  from .autonotebook import tqdm as notebook_tqdm\n"
     ]
    }
   ],
   "source": [
    "from datahandles import MetaDatasetBuilder"
   ]
  },
  {
   "cell_type": "code",
   "execution_count": 2,
   "id": "bc36770f",
   "metadata": {},
   "outputs": [
    {
     "name": "stdout",
     "output_type": "stream",
     "text": [
      "Split: train, number of data point: {'loan_default': 44, 'adult_income': 56}, balanced: True\n",
      "Total number of datapoints: 100\n",
      "Split: val, number of data point: {'adult_income': 100}, balanced: False\n",
      "Total number of datapoints: 100\n",
      "Split: test, number of data point: {'credit_risk': 2000}, balanced: False\n",
      "Total number of datapoints: 2000\n"
     ]
    }
   ],
   "source": [
    "meta_data = MetaDatasetBuilder(data_root=\"./data\",\n",
    "                               train_datasets=[\"loan_default\", \"adult_income\"],\n",
    "                               val_datasets=[\"adult_income\"],\n",
    "                               test_datasets=[\"credit_risk\"],\n",
    "                               train_size=100,\n",
    "                               val_size=100,\n",
    "                               test_size=2000,\n",
    "                               train_permutation=[],\n",
    "                               val_permutation=[],\n",
    "                               test_permutation=[],\n",
    "                               train_balance=True,\n",
    "                               val_balance=False,\n",
    "                               test_balance=False,\n",
    "                               n_shots=5,\n",
    "                               n_queries=3,\n",
    "                               max_n_features=103,\n",
    "                               shuffle=True,\n",
    "                               queries_same_as_shots=False,\n",
    "                               debug=True\n",
    "                               )"
   ]
  },
  {
   "cell_type": "code",
   "execution_count": 3,
   "id": "24067f53",
   "metadata": {},
   "outputs": [],
   "source": [
    "datasets = meta_data.get_datasets()"
   ]
  },
  {
   "cell_type": "code",
   "execution_count": 4,
   "id": "76fbc045",
   "metadata": {},
   "outputs": [],
   "source": [
    "train_ds = datasets[\"train\"]"
   ]
  },
  {
   "cell_type": "code",
   "execution_count": 40,
   "id": "affa317e",
   "metadata": {},
   "outputs": [
    {
     "name": "stdout",
     "output_type": "stream",
     "text": [
      "(7, [0, 2, 1])\n",
      "permutation: [0, 2, 1]\n",
      "Example 0: year is 2019. gender is Joint. loan limit is conforming. approval in advance is Yes. loan type is type1. loan purpose is p1. credit worthiness is l1. open credit is no open credit. business or commercial is not business or commercial. loan amount is 196500. term is 180.0. negative amortization is not present. interest only is not_int. lump sum payment is not involved. construction type is sb. occupancy type is pr. secured by is home. total units is 1U. income is 12300.0. credit type is CIB. credit score is 888. co-applicant credit type is EXP. age is 55-64. submission of application is to inst. region is North. type of security is direct. Will this loan default? Answer with Yes or No. The answer is No.\n",
      "\n",
      "Example 1: year is 2019. gender is Joint. loan limit is conforming. approval in advance is No. loan type is type1. loan purpose is p3. credit worthiness is l1. open credit is no open credit. business or commercial is not business or commercial. loan amount is 206500. term is 360.0. negative amortization is not present. interest only is not_int. lump sum payment is not involved. construction type is sb. occupancy type is pr. secured by is home. total units is 1U. income is 5100.0. credit type is EXP. credit score is 621. co-applicant credit type is EXP. age is 35-44. submission of application is to inst. region is south. type of security is direct. Will this loan default? Answer with Yes or No. The answer is No.\n",
      "\n",
      "Example 2: year is 2019. gender is Sex Not Available. loan limit is conforming. approval in advance is Yes. loan type is type3. loan purpose is p3. credit worthiness is l1. open credit is no open credit. business or commercial is not business or commercial. loan amount is 156500. term is 360.0. negative amortization is not present. interest only is not_int. lump sum payment is not involved. construction type is sb. occupancy type is pr. secured by is home. total units is 1U. income is 5880.0. credit type is CIB. credit score is 545. co-applicant credit type is CIB. age is 55-64. submission of application is to inst. region is south. type of security is direct. Will this loan default? Answer with Yes or No. The answer is Yes.\n",
      "\n",
      "Example 3: year is 2019. gender is Female. loan limit is conforming. approval in advance is No. loan type is type1. loan purpose is p3. credit worthiness is l1. open credit is no open credit. business or commercial is not business or commercial. loan amount is 256500. term is 360.0. negative amortization is not present. interest only is not_int. lump sum payment is not involved. construction type is sb. occupancy type is pr. secured by is home. total units is 1U. income is 3960.0. credit type is CRIF. credit score is 745. co-applicant credit type is CIB. age is 35-44. submission of application is to inst. region is North. type of security is direct. Will this loan default? Answer with Yes or No. The answer is Yes.\n",
      "\n",
      "Example 4: year is 2019. gender is Sex Not Available. loan limit is conforming. approval in advance is Yes. loan type is type1. loan purpose is p1. credit worthiness is l1. open credit is no open credit. business or commercial is not business or commercial. loan amount is 156500. term is 360.0. negative amortization is not present. interest only is not_int. lump sum payment is not involved. construction type is sb. occupancy type is pr. secured by is home. total units is 1U. income is 2400.0. credit type is EXP. credit score is 578. co-applicant credit type is EXP. age is 65-74. submission of application is to inst. region is south. type of security is direct. Will this loan default? Answer with Yes or No. The answer is No.\n",
      "\n",
      "\n"
     ]
    }
   ],
   "source": [
    "print(train_ds[7, [0, 2, 1]][\"shots\"])"
   ]
  },
  {
   "cell_type": "code",
   "execution_count": 6,
   "id": "624fbe0c",
   "metadata": {},
   "outputs": [],
   "source": [
    "test_ds = datasets[\"test\"]"
   ]
  },
  {
   "cell_type": "code",
   "execution_count": 7,
   "id": "8b2612a6",
   "metadata": {},
   "outputs": [
    {
     "name": "stdout",
     "output_type": "stream",
     "text": [
      "6\n"
     ]
    },
    {
     "ename": "TypeError",
     "evalue": "cannot unpack non-iterable int object",
     "output_type": "error",
     "traceback": [
      "\u001b[0;31m---------------------------------------------------------------------------\u001b[0m",
      "\u001b[0;31mTypeError\u001b[0m                                 Traceback (most recent call last)",
      "Cell \u001b[0;32mIn[7], line 1\u001b[0m\n\u001b[0;32m----> 1\u001b[0m \u001b[43mtest_ds\u001b[49m\u001b[43m[\u001b[49m\u001b[38;5;241;43m6\u001b[39;49m\u001b[43m]\u001b[49m\n",
      "File \u001b[0;32m/export/pasand/trans-hyper/datahandles/metadataset_builder.py:151\u001b[0m, in \u001b[0;36mFewShotDataset.__getitem__\u001b[0;34m(self, index)\u001b[0m\n\u001b[1;32m    149\u001b[0m \u001b[38;5;28;01mdef\u001b[39;00m\u001b[38;5;250m \u001b[39m\u001b[38;5;21m__getitem__\u001b[39m(\u001b[38;5;28mself\u001b[39m, index):\n\u001b[1;32m    150\u001b[0m     \u001b[38;5;28mprint\u001b[39m(index)\n\u001b[0;32m--> 151\u001b[0m     index, permutation \u001b[38;5;241m=\u001b[39m index\n\u001b[1;32m    153\u001b[0m     ds_name, shot_idx, query_idx \u001b[38;5;241m=\u001b[39m \u001b[38;5;28mself\u001b[39m\u001b[38;5;241m.\u001b[39massignments[index]\n\u001b[1;32m    154\u001b[0m     df \u001b[38;5;241m=\u001b[39m \u001b[38;5;28mself\u001b[39m\u001b[38;5;241m.\u001b[39mdatasets[ds_name]\n",
      "\u001b[0;31mTypeError\u001b[0m: cannot unpack non-iterable int object"
     ]
    }
   ],
   "source": [
    "test_ds[6]"
   ]
  }
 ],
 "metadata": {
  "kernelspec": {
   "display_name": "transhyper2",
   "language": "python",
   "name": "python3"
  },
  "language_info": {
   "codemirror_mode": {
    "name": "ipython",
    "version": 3
   },
   "file_extension": ".py",
   "mimetype": "text/x-python",
   "name": "python",
   "nbconvert_exporter": "python",
   "pygments_lexer": "ipython3",
   "version": "3.10.18"
  }
 },
 "nbformat": 4,
 "nbformat_minor": 5
}
